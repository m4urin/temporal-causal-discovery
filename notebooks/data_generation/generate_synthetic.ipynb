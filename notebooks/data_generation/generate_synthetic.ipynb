{
 "cells": [
  {
   "cell_type": "markdown",
   "id": "af4f1d09-fada-4b53-9432-a3ed5d064615",
   "metadata": {},
   "source": [
    "# Generate Synthetic data with non-linear and coupled relationships"
   ]
  },
  {
   "cell_type": "code",
   "execution_count": 10,
   "id": "2ad3d396-4800-4473-975a-82ca316bd7d2",
   "metadata": {},
   "outputs": [],
   "source": [
    "import sys\n",
    "sys.path.append(\"../../\") # if running from this folder\n",
    "from matplotlib import pyplot as plt\n",
    "import torch\n",
    "from src.data.synthetic_temporal_causal_graph import SyntheticTCG, generate_data\n",
    "from IPython.display import SVG, display\n",
    "from lingam.utils import make_dot\n",
    "from src.utils import get_model_device"
   ]
  },
  {
   "cell_type": "markdown",
   "id": "cf9a6c1c-4030-4561-8237-5cc58313cd8d",
   "metadata": {},
   "source": [
    "Settings"
   ]
  },
  {
   "cell_type": "code",
   "execution_count": 11,
   "id": "3d69bf99-8e97-4dc0-8bb8-6082993ee9a6",
   "metadata": {},
   "outputs": [],
   "source": [
    "N = 5     # num nodes\n",
    "E = 0     # num external nodes\n",
    "K = 5    # max lags\n",
    "T = 300  # sequence length\n",
    "n_graphs = 1\n",
    "file_name = f\"synthetic_N-{N}_T-{T}_K-{K}\""
   ]
  },
  {
   "cell_type": "markdown",
   "id": "82e107e9-808e-48d0-847b-be98f453de10",
   "metadata": {},
   "source": [
    "Function for rendering the graph."
   ]
  },
  {
   "cell_type": "code",
   "execution_count": 12,
   "id": "d45bc47c-01c6-406e-86b6-d2428308e871",
   "metadata": {},
   "outputs": [],
   "source": [
    "def render_graph(file_name, causal_graph):\n",
    "    labels = [f\"N{i}\" for i in range(causal_graph.num_internal_nodes)] + [f\"E{i}\" for i in range(causal_graph.num_external_nodes)]\n",
    "    dot_graph = make_dot(causal_graph.get_causal_matrix(), labels=labels)\n",
    "    dot_graph.format = 'svg'\n",
    "    dot_graph.render(file_name, cleanup=True)\n",
    "    display(SVG(f'{file_name}.svg'))"
   ]
  },
  {
   "cell_type": "markdown",
   "id": "0103e577-f3e6-4ffb-851f-7e92c054cd95",
   "metadata": {},
   "source": [
    "## Generate many causal graph structures\n",
    "Iterate on this cell until you find a graph that you like. "
   ]
  },
  {
   "cell_type": "code",
   "execution_count": 16,
   "id": "063a6ebc-f135-4f78-bc76-390bdd22bd32",
   "metadata": {},
   "outputs": [],
   "source": [
    "causal_graphs = [SyntheticTCG(num_internal_nodes=N, max_lags=K, min_incoming_connections=1, num_external_nodes=E, num_ext_connections=1) for _ in range(n_graphs)]"
   ]
  },
  {
   "cell_type": "code",
   "execution_count": 17,
   "id": "7fdffe90-cbf8-4abd-b42d-516adbf8c0f3",
   "metadata": {},
   "outputs": [
    {
     "data": {
      "image/svg+xml": [
       "<svg xmlns=\"http://www.w3.org/2000/svg\" xmlns:xlink=\"http://www.w3.org/1999/xlink\" width=\"178pt\" height=\"307pt\" viewBox=\"0.00 0.00 178.00 307.25\">\n",
       "<g id=\"graph0\" class=\"graph\" transform=\"scale(1 1) rotate(0) translate(4 303.25)\">\n",
       "<polygon fill=\"white\" stroke=\"none\" points=\"-4,4 -4,-303.25 174,-303.25 174,4 -4,4\"/>\n",
       "<!-- N0 -->\n",
       "<g id=\"node1\" class=\"node\">\n",
       "<title>N0</title>\n",
       "<ellipse fill=\"none\" stroke=\"black\" cx=\"66\" cy=\"-105.75\" rx=\"27\" ry=\"18\"/>\n",
       "<text text-anchor=\"middle\" x=\"66\" y=\"-100.33\" font-family=\"Times New Roman,serif\" font-size=\"14.00\">N0</text>\n",
       "</g>\n",
       "<!-- N1 -->\n",
       "<g id=\"node2\" class=\"node\">\n",
       "<title>N1</title>\n",
       "<ellipse fill=\"none\" stroke=\"black\" cx=\"27\" cy=\"-18\" rx=\"27\" ry=\"18\"/>\n",
       "<text text-anchor=\"middle\" x=\"27\" y=\"-12.57\" font-family=\"Times New Roman,serif\" font-size=\"14.00\">N1</text>\n",
       "</g>\n",
       "<!-- N0&#45;&gt;N1 -->\n",
       "<g id=\"edge2\" class=\"edge\">\n",
       "<title>N0-&gt;N1</title>\n",
       "<path fill=\"none\" stroke=\"black\" d=\"M58.48,-88.22C52.92,-76 45.25,-59.12 38.87,-45.09\"/>\n",
       "<polygon fill=\"black\" stroke=\"black\" points=\"41.82,-44.14 34.5,-36.48 35.45,-47.03 41.82,-44.14\"/>\n",
       "<text text-anchor=\"middle\" x=\"61\" y=\"-56.45\" font-family=\"Times New Roman,serif\" font-size=\"14.00\">1.00</text>\n",
       "</g>\n",
       "<!-- N2 -->\n",
       "<g id=\"node3\" class=\"node\">\n",
       "<title>N2</title>\n",
       "<ellipse fill=\"none\" stroke=\"black\" cx=\"66\" cy=\"-193.5\" rx=\"27\" ry=\"18\"/>\n",
       "<text text-anchor=\"middle\" x=\"66\" y=\"-188.07\" font-family=\"Times New Roman,serif\" font-size=\"14.00\">N2</text>\n",
       "</g>\n",
       "<!-- N2&#45;&gt;N0 -->\n",
       "<g id=\"edge1\" class=\"edge\">\n",
       "<title>N2-&gt;N0</title>\n",
       "<path fill=\"none\" stroke=\"black\" d=\"M66,-175.15C66,-163.64 66,-148.28 66,-135.03\"/>\n",
       "<polygon fill=\"black\" stroke=\"black\" points=\"69.5,-135.08 66,-125.08 62.5,-135.08 69.5,-135.08\"/>\n",
       "<text text-anchor=\"middle\" x=\"78\" y=\"-144.2\" font-family=\"Times New Roman,serif\" font-size=\"14.00\">1.00</text>\n",
       "</g>\n",
       "<!-- N3 -->\n",
       "<g id=\"node4\" class=\"node\">\n",
       "<title>N3</title>\n",
       "<ellipse fill=\"none\" stroke=\"black\" cx=\"83\" cy=\"-281.25\" rx=\"27\" ry=\"18\"/>\n",
       "<text text-anchor=\"middle\" x=\"83\" y=\"-275.82\" font-family=\"Times New Roman,serif\" font-size=\"14.00\">N3</text>\n",
       "</g>\n",
       "<!-- N3&#45;&gt;N1 -->\n",
       "<g id=\"edge3\" class=\"edge\">\n",
       "<title>N3-&gt;N1</title>\n",
       "<path fill=\"none\" stroke=\"black\" d=\"M67.5,-266.17C54.66,-253.37 37.35,-233.2 30,-211.5 11.1,-155.7 16.8,-85.48 22.19,-47.15\"/>\n",
       "<polygon fill=\"black\" stroke=\"black\" points=\"25.79,-47.74 23.83,-37.33 18.87,-46.7 25.79,-47.74\"/>\n",
       "<text text-anchor=\"middle\" x=\"30\" y=\"-144.2\" font-family=\"Times New Roman,serif\" font-size=\"14.00\">1.00</text>\n",
       "</g>\n",
       "<!-- N3&#45;&gt;N2 -->\n",
       "<g id=\"edge4\" class=\"edge\">\n",
       "<title>N3-&gt;N2</title>\n",
       "<path fill=\"none\" stroke=\"black\" d=\"M70.66,-264.78C66.78,-259 62.99,-252.15 61,-245.25 58.92,-238.02 58.77,-229.99 59.5,-222.5\"/>\n",
       "<polygon fill=\"black\" stroke=\"black\" points=\"63.1,-223.12 61.15,-212.71 56.18,-222.07 63.1,-223.12\"/>\n",
       "<text text-anchor=\"middle\" x=\"73\" y=\"-231.95\" font-family=\"Times New Roman,serif\" font-size=\"14.00\">1.00</text>\n",
       "</g>\n",
       "<!-- N4 -->\n",
       "<g id=\"node5\" class=\"node\">\n",
       "<title>N4</title>\n",
       "<ellipse fill=\"none\" stroke=\"black\" cx=\"143\" cy=\"-193.5\" rx=\"27\" ry=\"18\"/>\n",
       "<text text-anchor=\"middle\" x=\"143\" y=\"-188.07\" font-family=\"Times New Roman,serif\" font-size=\"14.00\">N4</text>\n",
       "</g>\n",
       "<!-- N3&#45;&gt;N4 -->\n",
       "<g id=\"edge6\" class=\"edge\">\n",
       "<title>N3-&gt;N4</title>\n",
       "<path fill=\"none\" stroke=\"black\" d=\"M87.89,-263.3C91.37,-252.95 96.73,-239.77 104,-229.5 107.77,-224.17 112.49,-219.08 117.33,-214.51\"/>\n",
       "<polygon fill=\"black\" stroke=\"black\" points=\"119.26,-216.6 124.45,-207.37 114.63,-211.35 119.26,-216.6\"/>\n",
       "<text text-anchor=\"middle\" x=\"116\" y=\"-231.95\" font-family=\"Times New Roman,serif\" font-size=\"14.00\">1.00</text>\n",
       "</g>\n",
       "<!-- N4&#45;&gt;N3 -->\n",
       "<g id=\"edge5\" class=\"edge\">\n",
       "<title>N4-&gt;N3</title>\n",
       "<path fill=\"none\" stroke=\"black\" d=\"M142.36,-211.69C141.26,-222.13 138.54,-235.31 132,-245.25 127.23,-252.5 120.41,-258.72 113.36,-263.83\"/>\n",
       "<polygon fill=\"black\" stroke=\"black\" points=\"111.88,-261.27 105.45,-269.69 115.73,-267.11 111.88,-261.27\"/>\n",
       "<text text-anchor=\"middle\" x=\"150\" y=\"-231.95\" font-family=\"Times New Roman,serif\" font-size=\"14.00\">1.00</text>\n",
       "</g>\n",
       "</g>\n",
       "</svg>"
      ],
      "text/plain": [
       "<IPython.core.display.SVG object>"
      ]
     },
     "metadata": {},
     "output_type": "display_data"
    }
   ],
   "source": [
    "render_graph(file_name, causal_graphs[0])"
   ]
  },
  {
   "cell_type": "markdown",
   "id": "b63b43f2-835d-4008-815f-53388bf48ebf",
   "metadata": {},
   "source": [
    "This function initializes the non-linear functions according to the graph by training them on random data points."
   ]
  },
  {
   "cell_type": "code",
   "execution_count": 18,
   "id": "fe44e48d-6321-4e95-832b-f45940255c88",
   "metadata": {},
   "outputs": [
    {
     "name": "stderr",
     "output_type": "stream",
     "text": [
      "Training.. Loss=0.0166: 100%|█████████████████████████████████████████████████████| 2500/2500 [00:10<00:00, 246.77it/s]\n"
     ]
    }
   ],
   "source": [
    "for cg in causal_graphs:\n",
    "    cg.init_functional_relationships()"
   ]
  },
  {
   "cell_type": "markdown",
   "id": "a0d34aba-5c29-459e-9f45-bf95abd26a52",
   "metadata": {},
   "source": [
    "Generate synthetic data using the milestones provided. In this example, it starts with causal graph 1, changes to 2 and then changes back."
   ]
  },
  {
   "cell_type": "code",
   "execution_count": 19,
   "id": "e6857d95-3795-4c3d-86ed-7f04fbcb855d",
   "metadata": {},
   "outputs": [
    {
     "name": "stderr",
     "output_type": "stream",
     "text": [
      "Generating temporal data..: 100%|██████████████████████████████████████████████████| 501/501 [00:00<00:00, 1495.28it/s]\n"
     ]
    }
   ],
   "source": [
    "generated_data = []\n",
    "for cg in causal_graphs:\n",
    "    generated_data.append(generate_data([(0, cg)], sequence_length=T, warmup=200))\n",
    "\n",
    "data = torch.cat([d[0] for d in generated_data], dim=0)\n",
    "data_noise_adjusted = torch.cat([d[1] for d in generated_data], dim=0)\n",
    "ground_truth = torch.cat([d[2].mean(dim=-1) for d in generated_data], dim=0)"
   ]
  },
  {
   "cell_type": "markdown",
   "id": "962f4f05-e4d0-4c78-a633-3d857ed1b017",
   "metadata": {},
   "source": [
    "The mean of the data is outputted as well and can be used to evaluate the correctness of the mu predictions in variational inference."
   ]
  },
  {
   "cell_type": "code",
   "execution_count": 20,
   "id": "ff0f0673-3ec4-4c14-ad33-ec49122156af",
   "metadata": {},
   "outputs": [
    {
     "name": "stdout",
     "output_type": "stream",
     "text": [
      "data               : torch.Size([1, 5, 300])\n",
      "data_noise_adjusted: torch.Size([1, 5, 300])\n",
      "ground_truth       : torch.Size([1, 5, 5])\n"
     ]
    }
   ],
   "source": [
    "print(\"data               :\", data.size())\n",
    "print(\"data_noise_adjusted:\", data_noise_adjusted.size())\n",
    "print(\"ground_truth       :\", ground_truth.size())"
   ]
  },
  {
   "cell_type": "markdown",
   "id": "b3bd5640-7efc-4f67-951a-a2691a0ed12a",
   "metadata": {},
   "source": [
    "Save the data to a file."
   ]
  },
  {
   "cell_type": "code",
   "execution_count": 21,
   "id": "7a8ede25-f783-4f8f-ba20-ef94eadde704",
   "metadata": {},
   "outputs": [
    {
     "name": "stdout",
     "output_type": "stream",
     "text": [
      "Written to 'synthetic_N-5_T-300_K-5.pt'!\n"
     ]
    }
   ],
   "source": [
    "path = f\"{file_name}.pt\"\n",
    "torch.save({'name': file_name, 'data': data, 'data_noise_adjusted': data_noise_adjusted, 'ground_truth': ground_truth}, path)\n",
    "print(f\"Written to '{path}'!\")"
   ]
  },
  {
   "cell_type": "markdown",
   "id": "b20fce3d-2c14-482d-8086-3284415a615d",
   "metadata": {},
   "source": [
    "This is the part in the data where the two causal connections change."
   ]
  },
  {
   "cell_type": "code",
   "execution_count": null,
   "id": "3a16b60a-8a11-44f4-ac66-1cebd4d4d9b2",
   "metadata": {},
   "outputs": [],
   "source": []
  }
 ],
 "metadata": {
  "kernelspec": {
   "display_name": "Python 3 (ipykernel)",
   "language": "python",
   "name": "python3"
  },
  "language_info": {
   "codemirror_mode": {
    "name": "ipython",
    "version": 3
   },
   "file_extension": ".py",
   "mimetype": "text/x-python",
   "name": "python",
   "nbconvert_exporter": "python",
   "pygments_lexer": "ipython3",
   "version": "3.10.13"
  }
 },
 "nbformat": 4,
 "nbformat_minor": 5
}
