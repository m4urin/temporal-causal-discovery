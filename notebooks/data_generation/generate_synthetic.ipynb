{
 "cells": [
  {
   "cell_type": "markdown",
   "id": "af4f1d09-fada-4b53-9432-a3ed5d064615",
   "metadata": {},
   "source": [
    "# Generate Synthetic data with non-linear and coupled relationships"
   ]
  },
  {
   "cell_type": "code",
   "execution_count": 2,
   "id": "2ad3d396-4800-4473-975a-82ca316bd7d2",
   "metadata": {},
   "outputs": [],
   "source": [
    "import sys\n",
    "sys.path.append(\"../../\") # if running from this folder\n",
    "from matplotlib import pyplot as plt\n",
    "import torch\n",
    "from src.data.synthetic_temporal_causal_graph import SyntheticTCG, generate_data\n",
    "from IPython.display import SVG, display\n",
    "from lingam.utils import make_dot"
   ]
  },
  {
   "cell_type": "markdown",
   "id": "cf9a6c1c-4030-4561-8237-5cc58313cd8d",
   "metadata": {},
   "source": [
    "Settings"
   ]
  },
  {
   "cell_type": "code",
   "execution_count": 3,
   "id": "3d69bf99-8e97-4dc0-8bb8-6082993ee9a6",
   "metadata": {},
   "outputs": [],
   "source": [
    "N = 8     # num nodes\n",
    "E = 0     # num external nodes\n",
    "K = 30    # max lags\n",
    "T = 1000  # sequence length\n",
    "n_graphs = 1\n",
    "file_name = f\"synthetic_N-{N}_T-{T}_K-{K}\""
   ]
  },
  {
   "cell_type": "markdown",
   "id": "82e107e9-808e-48d0-847b-be98f453de10",
   "metadata": {},
   "source": [
    "Function for rendering the graph."
   ]
  },
  {
   "cell_type": "code",
   "execution_count": 4,
   "id": "d45bc47c-01c6-406e-86b6-d2428308e871",
   "metadata": {},
   "outputs": [],
   "source": [
    "def render_graph(file_name, causal_graph):\n",
    "    labels = [f\"N{i}\" for i in range(causal_graph.num_internal_nodes)] + [f\"E{i}\" for i in range(causal_graph.num_external_nodes)]\n",
    "    dot_graph = make_dot(causal_graph.get_causal_matrix(), labels=labels)\n",
    "    dot_graph.format = 'svg'\n",
    "    dot_graph.render(file_name, cleanup=True)\n",
    "    display(SVG(f'{file_name}.svg'))"
   ]
  },
  {
   "cell_type": "markdown",
   "id": "0103e577-f3e6-4ffb-851f-7e92c054cd95",
   "metadata": {},
   "source": [
    "## Generate many causal graph structures\n",
    "Iterate on this cell until you find a graph that you like. "
   ]
  },
  {
   "cell_type": "code",
   "execution_count": 5,
   "id": "063a6ebc-f135-4f78-bc76-390bdd22bd32",
   "metadata": {},
   "outputs": [],
   "source": [
    "causal_graphs = [SyntheticTCG(num_internal_nodes=N, max_lags=K, min_incoming_connections=1, num_external_nodes=E, num_ext_connections=1) for _ in range(n_graphs)]"
   ]
  },
  {
   "cell_type": "code",
   "execution_count": 6,
   "id": "7fdffe90-cbf8-4abd-b42d-516adbf8c0f3",
   "metadata": {},
   "outputs": [
    {
     "data": {
      "image/svg+xml": [
       "<svg xmlns=\"http://www.w3.org/2000/svg\" xmlns:xlink=\"http://www.w3.org/1999/xlink\" width=\"172pt\" height=\"395pt\" viewBox=\"0.00 0.00 172.00 395.00\">\n",
       "<g id=\"graph0\" class=\"graph\" transform=\"scale(1 1) rotate(0) translate(4 391)\">\n",
       "<polygon fill=\"white\" stroke=\"none\" points=\"-4,4 -4,-391 168,-391 168,4 -4,4\"/>\n",
       "<!-- N0 -->\n",
       "<g id=\"node1\" class=\"node\">\n",
       "<title>N0</title>\n",
       "<ellipse fill=\"none\" stroke=\"black\" cx=\"62\" cy=\"-369\" rx=\"27\" ry=\"18\"/>\n",
       "<text text-anchor=\"middle\" x=\"62\" y=\"-363.57\" font-family=\"Times New Roman,serif\" font-size=\"14.00\">N0</text>\n",
       "</g>\n",
       "<!-- N3 -->\n",
       "<g id=\"node4\" class=\"node\">\n",
       "<title>N3</title>\n",
       "<ellipse fill=\"none\" stroke=\"black\" cx=\"27\" cy=\"-281.25\" rx=\"27\" ry=\"18\"/>\n",
       "<text text-anchor=\"middle\" x=\"27\" y=\"-275.82\" font-family=\"Times New Roman,serif\" font-size=\"14.00\">N3</text>\n",
       "</g>\n",
       "<!-- N0&#45;&gt;N3 -->\n",
       "<g id=\"edge5\" class=\"edge\">\n",
       "<title>N0-&gt;N3</title>\n",
       "<path fill=\"none\" stroke=\"black\" d=\"M39.81,-358.16C29.68,-352.4 18.69,-344.06 13,-333 9,-325.23 9.94,-316.18 12.69,-307.9\"/>\n",
       "<polygon fill=\"black\" stroke=\"black\" points=\"16.22,-309.54 16.91,-298.96 9.78,-306.8 16.22,-309.54\"/>\n",
       "<text text-anchor=\"middle\" x=\"25\" y=\"-319.7\" font-family=\"Times New Roman,serif\" font-size=\"14.00\">1.00</text>\n",
       "</g>\n",
       "<!-- N5 -->\n",
       "<g id=\"node6\" class=\"node\">\n",
       "<title>N5</title>\n",
       "<ellipse fill=\"none\" stroke=\"black\" cx=\"109\" cy=\"-281.25\" rx=\"27\" ry=\"18\"/>\n",
       "<text text-anchor=\"middle\" x=\"109\" y=\"-275.82\" font-family=\"Times New Roman,serif\" font-size=\"14.00\">N5</text>\n",
       "</g>\n",
       "<!-- N0&#45;&gt;N5 -->\n",
       "<g id=\"edge7\" class=\"edge\">\n",
       "<title>N0-&gt;N5</title>\n",
       "<path fill=\"none\" stroke=\"black\" d=\"M70.84,-351.87C77.62,-339.49 87.12,-322.16 94.95,-307.89\"/>\n",
       "<polygon fill=\"black\" stroke=\"black\" points=\"98.3,-310.05 100.04,-299.6 92.16,-306.69 98.3,-310.05\"/>\n",
       "<text text-anchor=\"middle\" x=\"101\" y=\"-319.7\" font-family=\"Times New Roman,serif\" font-size=\"14.00\">1.00</text>\n",
       "</g>\n",
       "<!-- N1 -->\n",
       "<g id=\"node2\" class=\"node\">\n",
       "<title>N1</title>\n",
       "<ellipse fill=\"none\" stroke=\"black\" cx=\"137\" cy=\"-105.75\" rx=\"27\" ry=\"18\"/>\n",
       "<text text-anchor=\"middle\" x=\"137\" y=\"-100.33\" font-family=\"Times New Roman,serif\" font-size=\"14.00\">N1</text>\n",
       "</g>\n",
       "<!-- N2 -->\n",
       "<g id=\"node3\" class=\"node\">\n",
       "<title>N2</title>\n",
       "<ellipse fill=\"none\" stroke=\"black\" cx=\"54\" cy=\"-18\" rx=\"27\" ry=\"18\"/>\n",
       "<text text-anchor=\"middle\" x=\"54\" y=\"-12.57\" font-family=\"Times New Roman,serif\" font-size=\"14.00\">N2</text>\n",
       "</g>\n",
       "<!-- N3&#45;&gt;N0 -->\n",
       "<g id=\"edge1\" class=\"edge\">\n",
       "<title>N3-&gt;N0</title>\n",
       "<path fill=\"none\" stroke=\"black\" d=\"M33.85,-299.03C38.78,-311.11 45.53,-327.65 51.19,-341.51\"/>\n",
       "<polygon fill=\"black\" stroke=\"black\" points=\"48.23,-342.53 55.25,-350.47 54.71,-339.89 48.23,-342.53\"/>\n",
       "<text text-anchor=\"middle\" x=\"59\" y=\"-319.7\" font-family=\"Times New Roman,serif\" font-size=\"14.00\">1.00</text>\n",
       "</g>\n",
       "<!-- N4 -->\n",
       "<g id=\"node5\" class=\"node\">\n",
       "<title>N4</title>\n",
       "<ellipse fill=\"none\" stroke=\"black\" cx=\"27\" cy=\"-193.5\" rx=\"27\" ry=\"18\"/>\n",
       "<text text-anchor=\"middle\" x=\"27\" y=\"-188.07\" font-family=\"Times New Roman,serif\" font-size=\"14.00\">N4</text>\n",
       "</g>\n",
       "<!-- N3&#45;&gt;N4 -->\n",
       "<g id=\"edge6\" class=\"edge\">\n",
       "<title>N3-&gt;N4</title>\n",
       "<path fill=\"none\" stroke=\"black\" d=\"M27,-262.9C27,-251.39 27,-236.03 27,-222.78\"/>\n",
       "<polygon fill=\"black\" stroke=\"black\" points=\"30.5,-222.83 27,-212.83 23.5,-222.83 30.5,-222.83\"/>\n",
       "<text text-anchor=\"middle\" x=\"39\" y=\"-231.95\" font-family=\"Times New Roman,serif\" font-size=\"14.00\">1.00</text>\n",
       "</g>\n",
       "<!-- N6 -->\n",
       "<g id=\"node7\" class=\"node\">\n",
       "<title>N6</title>\n",
       "<ellipse fill=\"none\" stroke=\"black\" cx=\"27\" cy=\"-105.75\" rx=\"27\" ry=\"18\"/>\n",
       "<text text-anchor=\"middle\" x=\"27\" y=\"-100.33\" font-family=\"Times New Roman,serif\" font-size=\"14.00\">N6</text>\n",
       "</g>\n",
       "<!-- N4&#45;&gt;N6 -->\n",
       "<g id=\"edge8\" class=\"edge\">\n",
       "<title>N4-&gt;N6</title>\n",
       "<path fill=\"none\" stroke=\"black\" d=\"M27,-175.15C27,-163.64 27,-148.28 27,-135.03\"/>\n",
       "<polygon fill=\"black\" stroke=\"black\" points=\"30.5,-135.08 27,-125.08 23.5,-135.08 30.5,-135.08\"/>\n",
       "<text text-anchor=\"middle\" x=\"39\" y=\"-144.2\" font-family=\"Times New Roman,serif\" font-size=\"14.00\">1.00</text>\n",
       "</g>\n",
       "<!-- N5&#45;&gt;N2 -->\n",
       "<g id=\"edge3\" class=\"edge\">\n",
       "<title>N5-&gt;N2</title>\n",
       "<path fill=\"none\" stroke=\"black\" d=\"M107.07,-262.95C102.55,-224.71 89.94,-130.35 68,-54 67.2,-51.21 66.25,-48.33 65.24,-45.48\"/>\n",
       "<polygon fill=\"black\" stroke=\"black\" points=\"68.25,-44.57 61.39,-36.5 61.72,-47.09 68.25,-44.57\"/>\n",
       "<text text-anchor=\"middle\" x=\"103\" y=\"-144.2\" font-family=\"Times New Roman,serif\" font-size=\"14.00\">1.00</text>\n",
       "</g>\n",
       "<!-- N7 -->\n",
       "<g id=\"node8\" class=\"node\">\n",
       "<title>N7</title>\n",
       "<ellipse fill=\"none\" stroke=\"black\" cx=\"137\" cy=\"-193.5\" rx=\"27\" ry=\"18\"/>\n",
       "<text text-anchor=\"middle\" x=\"137\" y=\"-188.07\" font-family=\"Times New Roman,serif\" font-size=\"14.00\">N7</text>\n",
       "</g>\n",
       "<!-- N5&#45;&gt;N7 -->\n",
       "<g id=\"edge9\" class=\"edge\">\n",
       "<title>N5-&gt;N7</title>\n",
       "<path fill=\"none\" stroke=\"black\" d=\"M114.53,-263.31C118.41,-251.45 123.66,-235.34 128.12,-221.7\"/>\n",
       "<polygon fill=\"black\" stroke=\"black\" points=\"131.7,-223 131.48,-212.41 125.05,-220.83 131.7,-223\"/>\n",
       "<text text-anchor=\"middle\" x=\"137\" y=\"-231.95\" font-family=\"Times New Roman,serif\" font-size=\"14.00\">1.00</text>\n",
       "</g>\n",
       "<!-- N6&#45;&gt;N2 -->\n",
       "<g id=\"edge4\" class=\"edge\">\n",
       "<title>N6-&gt;N2</title>\n",
       "<path fill=\"none\" stroke=\"black\" d=\"M32.33,-87.81C36.07,-75.95 41.14,-59.84 45.44,-46.2\"/>\n",
       "<polygon fill=\"black\" stroke=\"black\" points=\"49.01,-47.5 48.68,-36.91 42.33,-45.39 49.01,-47.5\"/>\n",
       "<text text-anchor=\"middle\" x=\"54\" y=\"-56.45\" font-family=\"Times New Roman,serif\" font-size=\"14.00\">1.00</text>\n",
       "</g>\n",
       "<!-- N7&#45;&gt;N1 -->\n",
       "<g id=\"edge2\" class=\"edge\">\n",
       "<title>N7-&gt;N1</title>\n",
       "<path fill=\"none\" stroke=\"black\" d=\"M137,-175.15C137,-163.64 137,-148.28 137,-135.03\"/>\n",
       "<polygon fill=\"black\" stroke=\"black\" points=\"140.5,-135.08 137,-125.08 133.5,-135.08 140.5,-135.08\"/>\n",
       "<text text-anchor=\"middle\" x=\"149\" y=\"-144.2\" font-family=\"Times New Roman,serif\" font-size=\"14.00\">1.00</text>\n",
       "</g>\n",
       "</g>\n",
       "</svg>"
      ],
      "text/plain": [
       "<IPython.core.display.SVG object>"
      ]
     },
     "metadata": {},
     "output_type": "display_data"
    }
   ],
   "source": [
    "render_graph(file_name, causal_graphs[0])"
   ]
  },
  {
   "cell_type": "markdown",
   "id": "b63b43f2-835d-4008-815f-53388bf48ebf",
   "metadata": {},
   "source": [
    "This function initializes the non-linear functions according to the graph by training them on random data points."
   ]
  },
  {
   "cell_type": "code",
   "execution_count": 7,
   "id": "fe44e48d-6321-4e95-832b-f45940255c88",
   "metadata": {},
   "outputs": [
    {
     "name": "stderr",
     "output_type": "stream",
     "text": [
      "  0%|                                                                                         | 0/2500 [00:00<?, ?it/s]C:\\Users\\mauri\\.conda\\envs\\causal-discovery\\lib\\site-packages\\torch\\autograd\\graph.py:744: UserWarning: Plan failed with a cudnnException: CUDNN_BACKEND_EXECUTION_PLAN_DESCRIPTOR: cudnnFinalize Descriptor Failed cudnn_status: CUDNN_STATUS_NOT_SUPPORTED (Triggered internally at C:\\cb\\pytorch_1000000000000\\work\\aten\\src\\ATen\\native\\cudnn\\Conv_v8.cpp:919.)\n",
      "  return Variable._execution_engine.run_backward(  # Calls into the C++ engine to run the backward pass\n",
      "Training.. Loss=0.2284:  40%|█████████████████████▌                                | 999/2500 [00:04<00:04, 333.31it/s]C:\\Users\\mauri\\.conda\\envs\\causal-discovery\\lib\\site-packages\\torch\\autograd\\graph.py:744: UserWarning: Plan failed with a cudnnException: CUDNN_BACKEND_EXECUTION_PLAN_DESCRIPTOR: cudnnFinalize Descriptor Failed cudnn_status: CUDNN_STATUS_NOT_SUPPORTED (Triggered internally at C:\\cb\\pytorch_1000000000000\\work\\aten\\src\\ATen\\native\\cudnn\\Conv_v8.cpp:919.)\n",
      "  return Variable._execution_engine.run_backward(  # Calls into the C++ engine to run the backward pass\n",
      "Find min/max.. Loss=-0.3292:  60%|████████████████████████████▊                   | 1499/2500 [00:08<00:08, 111.34it/s]C:\\Users\\mauri\\.conda\\envs\\causal-discovery\\lib\\site-packages\\torch\\nn\\modules\\conv.py:306: UserWarning: Plan failed with a cudnnException: CUDNN_BACKEND_EXECUTION_PLAN_DESCRIPTOR: cudnnFinalize Descriptor Failed cudnn_status: CUDNN_STATUS_NOT_SUPPORTED (Triggered internally at C:\\cb\\pytorch_1000000000000\\work\\aten\\src\\ATen\\native\\cudnn\\Conv_v8.cpp:919.)\n",
      "  return F.conv1d(input, weight, bias, self.stride,\n",
      "C:\\Users\\mauri\\.conda\\envs\\causal-discovery\\lib\\site-packages\\torch\\autograd\\graph.py:744: UserWarning: Plan failed with a cudnnException: CUDNN_BACKEND_EXECUTION_PLAN_DESCRIPTOR: cudnnFinalize Descriptor Failed cudnn_status: CUDNN_STATUS_NOT_SUPPORTED (Triggered internally at C:\\cb\\pytorch_1000000000000\\work\\aten\\src\\ATen\\native\\cudnn\\Conv_v8.cpp:919.)\n",
      "  return Variable._execution_engine.run_backward(  # Calls into the C++ engine to run the backward pass\n",
      "Training.. Loss=0.0441: 100%|██████████████████████████████████████████████████████| 2500/2500 [00:35<00:00, 70.23it/s]\n"
     ]
    }
   ],
   "source": [
    "for cg in causal_graphs:\n",
    "    cg.init_functional_relationships()"
   ]
  },
  {
   "cell_type": "markdown",
   "id": "a0d34aba-5c29-459e-9f45-bf95abd26a52",
   "metadata": {},
   "source": [
    "Generate synthetic data using the milestones provided. In this example, it starts with causal graph 1, changes to 2 and then changes back."
   ]
  },
  {
   "cell_type": "code",
   "execution_count": 8,
   "id": "e6857d95-3795-4c3d-86ed-7f04fbcb855d",
   "metadata": {},
   "outputs": [
    {
     "name": "stderr",
     "output_type": "stream",
     "text": [
      "Generating temporal data..: 100%|████████████████████████████████████████████████| 1201/1201 [00:00<00:00, 1335.52it/s]\n"
     ]
    }
   ],
   "source": [
    "generated_data = []\n",
    "for cg in causal_graphs:\n",
    "    generated_data.append(generate_data([(0, cg)], sequence_length=T, warmup=200))\n",
    "\n",
    "data = torch.cat([d[0] for d in generated_data], dim=0)\n",
    "data_noise_adjusted = torch.cat([d[1] for d in generated_data], dim=0)\n",
    "ground_truth = torch.cat([d[2].mean(dim=-1) for d in generated_data], dim=0)"
   ]
  },
  {
   "cell_type": "markdown",
   "id": "962f4f05-e4d0-4c78-a633-3d857ed1b017",
   "metadata": {},
   "source": [
    "The mean of the data is outputted as well and can be used to evaluate the correctness of the mu predictions in variational inference."
   ]
  },
  {
   "cell_type": "code",
   "execution_count": 9,
   "id": "ff0f0673-3ec4-4c14-ad33-ec49122156af",
   "metadata": {},
   "outputs": [
    {
     "name": "stdout",
     "output_type": "stream",
     "text": [
      "data               : torch.Size([1, 8, 1000])\n",
      "data_noise_adjusted: torch.Size([1, 8, 1000])\n",
      "ground_truth       : torch.Size([1, 8, 8])\n"
     ]
    }
   ],
   "source": [
    "print(\"data               :\", data.size())\n",
    "print(\"data_noise_adjusted:\", data_noise_adjusted.size())\n",
    "print(\"ground_truth       :\", ground_truth.size())"
   ]
  },
  {
   "cell_type": "markdown",
   "id": "b3bd5640-7efc-4f67-951a-a2691a0ed12a",
   "metadata": {},
   "source": [
    "Save the data to a file."
   ]
  },
  {
   "cell_type": "code",
   "execution_count": 10,
   "id": "7a8ede25-f783-4f8f-ba20-ef94eadde704",
   "metadata": {},
   "outputs": [
    {
     "name": "stdout",
     "output_type": "stream",
     "text": [
      "Written to 'synthetic_N-8_T-1000_K-30.pt'!\n"
     ]
    }
   ],
   "source": [
    "path = f\"{file_name}.pt\"\n",
    "torch.save({'name': file_name, 'data': data, 'data_noise_adjusted': data_noise_adjusted, 'ground_truth': ground_truth}, path)\n",
    "print(f\"Written to '{path}'!\")"
   ]
  },
  {
   "cell_type": "markdown",
   "id": "b20fce3d-2c14-482d-8086-3284415a615d",
   "metadata": {},
   "source": [
    "This is the part in the data where the two causal connections change."
   ]
  },
  {
   "cell_type": "code",
   "execution_count": null,
   "id": "3a16b60a-8a11-44f4-ac66-1cebd4d4d9b2",
   "metadata": {},
   "outputs": [],
   "source": []
  }
 ],
 "metadata": {
  "kernelspec": {
   "display_name": "Python 3 (ipykernel)",
   "language": "python",
   "name": "python3"
  },
  "language_info": {
   "codemirror_mode": {
    "name": "ipython",
    "version": 3
   },
   "file_extension": ".py",
   "mimetype": "text/x-python",
   "name": "python",
   "nbconvert_exporter": "python",
   "pygments_lexer": "ipython3",
   "version": "3.10.14"
  }
 },
 "nbformat": 4,
 "nbformat_minor": 5
}
