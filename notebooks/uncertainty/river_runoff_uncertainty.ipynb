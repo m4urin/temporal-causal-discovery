{
 "cells": [
  {
   "cell_type": "markdown",
   "id": "59f3cbeb-7d09-4eec-8741-c368cb62c1dc",
   "metadata": {},
   "source": [
    "### Dream3"
   ]
  },
  {
   "cell_type": "code",
   "execution_count": 1,
   "id": "56c69085-428e-4ad7-9b01-f82e3cb2e5bc",
   "metadata": {
    "tags": []
   },
   "outputs": [],
   "source": [
    "import sys\n",
    "sys.path.append(\"../../\") # if running from this folder\n",
    "import torch\n",
    "from matplotlib import pyplot as plt\n",
    "import pandas as pd\n",
    "import numpy as np\n",
    "from src.models import NAVAR_UA, TAMCaD_UA\n",
    "from src.data import load_dataset\n",
    "from src.training import train_model, train_test_split\n",
    "from src.eval import plot_contemporaneous_relationships, plot_all_contemporaneous_relationships, plot_heatmaps, plot_heatmaps_grid\n",
    "from src.utils import min_max_normalization\n",
    "from tqdm.notebook import trange, tqdm\n",
    "from IPython.display import Image, display\n",
    "from lingam.utils import make_dot"
   ]
  },
  {
   "cell_type": "code",
   "execution_count": 2,
   "id": "1cdd0540-58b0-4bcf-bbf9-b638b8cbfe3d",
   "metadata": {
    "tags": []
   },
   "outputs": [
    {
     "name": "stdout",
     "output_type": "stream",
     "text": [
      "{'name': 'river-runoff_N-12_T-4600', 'data': torch.Size([1, 12, 4600])}\n"
     ]
    }
   ],
   "source": [
    "dataset = load_dataset('causeme', 'river-runoff_N-12_T-4600')[0]\n",
    "\n",
    "print({k: v.shape if isinstance(v, torch.Tensor) else v for k, v in dataset.items()})\n",
    "\n",
    "model_variations = {\n",
    "    'TAMCaD': {'model_type': TAMCaD_UA, 'lambda1': 0.01, 'gamma': 0.0, 'use_gumbel': True, 'n_blocks': 2, 'n_layers': 2, 'kernel_size': 2, 'lr': 5e-4, 'dropout': 0.1, 'weight_sharing':True, 'hidden_dim': 16},\n",
    "    'NAVAR': {'model_type': NAVAR_UA, 'lambda1': 0.3, 'beta': 0.5, 'n_blocks': 1, 'n_layers': 2, 'kernel_size': 3, 'lr': 5e-4, 'dropout': 0.2, 'hidden_dim': 32, },\n",
    "}\n",
    "params = {\n",
    "    'experiment_name': 'river-runoff-uncertainty',\n",
    "    'weight_decay': 1e-8,\n",
    "    'test_size': 0.0,\n",
    "    'epochs': 300,\n",
    "    'n_ensembles': 30\n",
    "}"
   ]
  },
  {
   "cell_type": "code",
   "execution_count": 3,
   "id": "4df6b995-0a00-4821-bb98-39066a10e94b",
   "metadata": {
    "tags": []
   },
   "outputs": [
    {
     "name": "stdout",
     "output_type": "stream",
     "text": [
      "Process TAMCaD\n"
     ]
    },
    {
     "name": "stderr",
     "output_type": "stream",
     "text": [
      "  0%|                                                                                          | 0/300 [00:00<?, ?it/s]C:\\Users\\mauri\\.conda\\envs\\causal-discovery\\lib\\site-packages\\torch\\autograd\\graph.py:744: UserWarning: Plan failed with a cudnnException: CUDNN_BACKEND_EXECUTION_PLAN_DESCRIPTOR: cudnnFinalize Descriptor Failed cudnn_status: CUDNN_STATUS_NOT_SUPPORTED (Triggered internally at C:\\cb\\pytorch_1000000000000\\work\\aten\\src\\ATen\\native\\cudnn\\Conv_v8.cpp:919.)\n",
      "  return Variable._execution_engine.run_backward(  # Calls into the C++ engine to run the backward pass\n",
      "[train] loss=0.38: 100%|█████████████████████████████████████████████████████████████| 300/300 [00:49<00:00,  6.11it/s]\n"
     ]
    },
    {
     "name": "stdout",
     "output_type": "stream",
     "text": [
      "Process NAVAR\n"
     ]
    },
    {
     "name": "stderr",
     "output_type": "stream",
     "text": [
      "[train] loss=0.01: 100%|█████████████████████████████████████████████████████████████| 300/300 [00:32<00:00,  9.18it/s]\n"
     ]
    }
   ],
   "source": [
    "all_results = {}\n",
    "\n",
    "for id, model_params in model_variations.items():\n",
    "    print('Process', id)\n",
    "    all_results[id] = []\n",
    "    for _ in range(1):\n",
    "        all_results[id].append(train_model(\n",
    "            experiment_run=id,\n",
    "            dataset=dataset,\n",
    "            **model_params,\n",
    "            **params\n",
    "        ))"
   ]
  },
  {
   "cell_type": "code",
   "execution_count": 4,
   "id": "70e68f93-b975-4f93-ba83-8a6590b4e20e",
   "metadata": {},
   "outputs": [
    {
     "name": "stdout",
     "output_type": "stream",
     "text": [
      "dict_keys(['prediction', 'attention_logits', 'attention_logits_ep', 'attention_logits_al', 'matrix', 'matrix_ep', 'matrix_al', 'matrix_temporal'])\n",
      "dict_keys(['prediction', 'contributions', 'contributions_ep', 'contributions_al', 'matrix', 'matrix_ep', 'matrix_al', 'matrix_temporal'])\n"
     ]
    },
    {
     "data": {
      "text/html": [
       "<div>\n",
       "<style scoped>\n",
       "    .dataframe tbody tr th:only-of-type {\n",
       "        vertical-align: middle;\n",
       "    }\n",
       "\n",
       "    .dataframe tbody tr th {\n",
       "        vertical-align: top;\n",
       "    }\n",
       "\n",
       "    .dataframe thead th {\n",
       "        text-align: right;\n",
       "    }\n",
       "</style>\n",
       "<table border=\"1\" class=\"dataframe\">\n",
       "  <thead>\n",
       "    <tr style=\"text-align: right;\">\n",
       "      <th></th>\n",
       "      <th>Loss (avg)</th>\n",
       "      <th>Time per Epoch (ms) (avg)</th>\n",
       "    </tr>\n",
       "    <tr>\n",
       "      <th>Model</th>\n",
       "      <th></th>\n",
       "      <th></th>\n",
       "    </tr>\n",
       "  </thead>\n",
       "  <tbody>\n",
       "    <tr>\n",
       "      <th>TAMCaD</th>\n",
       "      <td>0.604576</td>\n",
       "      <td>164.881168</td>\n",
       "    </tr>\n",
       "    <tr>\n",
       "      <th>NAVAR</th>\n",
       "      <td>1.250042</td>\n",
       "      <td>109.648847</td>\n",
       "    </tr>\n",
       "  </tbody>\n",
       "</table>\n",
       "</div>"
      ],
      "text/plain": [
       "        Loss (avg)  Time per Epoch (ms) (avg)\n",
       "Model                                        \n",
       "TAMCaD    0.604576                 164.881168\n",
       "NAVAR     1.250042                 109.648847"
      ]
     },
     "execution_count": 4,
     "metadata": {},
     "output_type": "execute_result"
    }
   ],
   "source": [
    "# Initialize the arrays to store the data\n",
    "M = len(all_results)  # Number of models\n",
    "N = len(next(iter(all_results.values())))  # Assuming all models have the same number of runs\n",
    "T = len(next(iter(next(iter(all_results.values()))))['train_metrics']['loss'][1])  # Number of timesteps\n",
    "\n",
    "losses = np.zeros((M, N, T))\n",
    "training_times = np.zeros((M, N, T))\n",
    "aurocs = np.zeros((M, N, T))\n",
    "best_aurocs = np.zeros((M, N))\n",
    "combined_matrix = []\n",
    "\n",
    "# Iterate through each model's results\n",
    "model_names = []\n",
    "for i, (model_name, results_list) in enumerate(all_results.items()):\n",
    "    model_names.append(model_name)\n",
    "    for j, result in enumerate(results_list):\n",
    "        losses[i, j, :] = result['train_metrics']['loss'][1].numpy()\n",
    "        training_times[i, j, :] = np.full(T, 1000 * result['model_params']['training_time_per_epoch'])\n",
    "\n",
    "# Compute averages and standard deviations\n",
    "avg_losses = np.mean(losses, axis=1)\n",
    "avg_training_times = np.mean(training_times, axis=1)\n",
    "avg_aurocs = np.mean(aurocs, axis=1)\n",
    "avg_best_aurocs = np.mean(best_aurocs, axis=1)\n",
    "\n",
    "\n",
    "std_losses = np.std(losses, axis=1)\n",
    "std_aurocs = np.std(aurocs, axis=1)\n",
    "\n",
    "# Create the table\n",
    "table_data = {\n",
    "    \"Model\": model_names,\n",
    "    \"Loss (avg)\": np.mean(avg_losses, axis=1),\n",
    "    \"Time per Epoch (ms) (avg)\": np.mean(avg_training_times, axis=1)\n",
    "}\n",
    "results_df = pd.DataFrame(table_data)\n",
    "results_df.set_index(\"Model\", inplace=True)\n",
    "results_df"
   ]
  },
  {
   "cell_type": "code",
   "execution_count": 5,
   "id": "85d1301b-30c9-4a7a-a998-c41c64c22542",
   "metadata": {},
   "outputs": [
    {
     "data": {
      "image/png": "[encoded data removed]",
      "text/plain": [
       "<Figure size 350x300 with 1 Axes>"
      ]
     },
     "metadata": {},
     "output_type": "display_data"
    },
    {
     "data": {
      "image/png": "[encoded data removed]",
      "text/plain": [
       "<Figure size 350x300 with 1 Axes>"
      ]
     },
     "metadata": {},
     "output_type": "display_data"
    }
   ],
   "source": [
    "# Time steps for plotting\n",
    "time_steps = np.arange(T)\n",
    "\n",
    "# Plotting Loss for all models\n",
    "plt.figure(figsize=(3.5,3))\n",
    "for i, model_name in enumerate(model_names):\n",
    "    plt.plot(time_steps, avg_losses[i], label=f'{model_name}')\n",
    "    plt.fill_between(time_steps, avg_losses[i] - 2*std_losses[i], avg_losses[i] + 2*std_losses[i], alpha=0.2)\n",
    "\n",
    "plt.title('Loss Over Time')\n",
    "plt.xlabel('Time Step')\n",
    "plt.ylabel('Loss')\n",
    "#plt.ylim(0.1, 0.6)  # Setting the y-axis limit for loss\n",
    "plt.legend()\n",
    "plt.tight_layout()\n",
    "plt.savefig('noise_loss_plot.png', dpi=200)\n",
    "plt.show()\n",
    "\n",
    "# Plotting AUROC for all models\n",
    "plt.figure(figsize=(3.5,3))\n",
    "for i, model_name in enumerate(model_names):\n",
    "    plt.plot(time_steps, avg_aurocs[i], label=f'{model_name}')\n",
    "    plt.fill_between(time_steps, avg_aurocs[i] - 2*std_aurocs[i], avg_aurocs[i] + 2*std_aurocs[i], alpha=0.2)"
   ]
  },
  {
   "cell_type": "code",
   "execution_count": 6,
   "id": "548d95cd-61fc-48fe-8d2c-df1c4595d0d2",
   "metadata": {},
   "outputs": [
    {
     "data": {
      "text/plain": [
       "torch.Size([2, 12, 12])"
      ]
     },
     "execution_count": 6,
     "metadata": {},
     "output_type": "execute_result"
    }
   ],
   "source": [
    "matrices = []\n",
    "for i, (model_name, results_list) in enumerate(all_results.items()):\n",
    "    matrices.append(torch.stack([results_list[i]['train_artifacts']['matrix'] for i in range(1)]).mean(dim=0))\n",
    "matrices = torch.stack(matrices)\n",
    "matrices.shape"
   ]
  },
  {
   "cell_type": "code",
   "execution_count": 7,
   "id": "0c8505e5-a945-4fde-9b86-0ee78a6622d3",
   "metadata": {},
   "outputs": [
    {
     "data": {
      "text/plain": [
       "torch.Size([12, 12])"
      ]
     },
     "execution_count": 7,
     "metadata": {},
     "output_type": "execute_result"
    }
   ],
   "source": [
    "attn_logits = all_results['TAMCaD'][0]['train_artifacts']['attention_logits'].mean(dim=-1)\n",
    "tau = 0.15\n",
    "attn_softmax = torch.softmax(attn_logits / tau, dim=-1)\n",
    "attn_softmax.shape"
   ]
  },
  {
   "cell_type": "code",
   "execution_count": 22,
   "id": "d90f5bca-8b21-4587-8694-efc1c8de2cf2",
   "metadata": {},
   "outputs": [
    {
     "name": "stdout",
     "output_type": "stream",
     "text": [
      "tensor([[11.2151,  0.8210,  1.3979,  0.5294,  1.4605,  0.5835,  1.0392,  0.4894,\n",
      "          0.9563,  0.5587,  0.9625,  0.8498],\n",
      "        [ 1.7245,  1.1038,  0.7537,  0.8056,  0.4566,  0.4362,  0.7097,  1.0011,\n",
      "          0.4552,  0.5421,  0.4724,  0.3418],\n",
      "        [ 1.0142,  0.9601,  0.8524,  0.7698,  0.6399,  0.8688,  0.9445,  0.5320,\n",
      "          1.1984,  1.0680,  0.7450,  1.3622],\n",
      "        [ 1.6867,  1.3056,  0.9738,  0.5832,  1.0427,  0.5889,  1.9856,  0.8947,\n",
      "          0.7287,  0.8614,  0.4234,  0.4242],\n",
      "        [ 2.9496,  0.5465,  1.7761,  0.8935,  1.1410,  0.8448,  0.8247,  0.4918,\n",
      "          1.0588,  1.1261,  1.7103,  0.5658],\n",
      "        [38.7475,  0.9642,  0.8789,  0.8351,  1.1119,  0.5206,  0.9069,  0.4434,\n",
      "          1.4953,  0.7711,  0.9197,  3.8506],\n",
      "        [ 2.1837,  2.2110,  1.4060,  1.0210,  1.7580,  1.5442,  1.2866,  1.4036,\n",
      "          1.1233,  3.2772,  1.0772,  0.4495],\n",
      "        [ 0.7775,  0.4472,  0.2719,  0.3711,  0.3730,  0.2531,  0.8199,  1.2218,\n",
      "          0.4473,  0.5540,  0.2764,  0.1918],\n",
      "        [ 2.4323,  1.3819,  1.1595,  0.8258,  0.6219,  0.6938,  0.8099,  0.5234,\n",
      "          0.8180,  1.5679,  1.9716,  0.7362],\n",
      "        [ 1.5774,  2.9805,  1.1719,  0.6346,  0.9472,  0.8388,  0.9577,  3.1101,\n",
      "          0.9924,  0.8100,  0.8437,  0.9049],\n",
      "        [ 1.2850,  1.4300,  0.6599,  0.5809,  0.7871,  0.8705,  0.4767,  0.8383,\n",
      "          0.9100,  0.8632,  1.1576,  1.4701],\n",
      "        [ 0.1549,  0.1615,  0.3088,  0.2086,  0.1393,  0.1276,  0.0924,  0.0000,\n",
      "          0.0897,  0.2038,  0.3577,  1.6999]])\n",
      "tensor([[ 2.4173e+00, -1.9728e-01,  3.3495e-01, -6.3596e-01,  3.7881e-01,\n",
      "         -5.3868e-01,  3.8417e-02, -7.1452e-01, -4.4640e-02, -5.8223e-01,\n",
      "         -3.8270e-02, -1.6272e-01],\n",
      "        [ 5.4491e-01,  9.8752e-02, -2.8281e-01, -2.1620e-01, -7.8392e-01,\n",
      "         -8.2969e-01, -3.4289e-01,  1.0851e-03, -7.8694e-01, -6.1225e-01,\n",
      "         -7.4994e-01, -1.0734e+00],\n",
      "        [ 1.4075e-02, -4.0670e-02, -1.5972e-01, -2.6158e-01, -4.4647e-01,\n",
      "         -1.4064e-01, -5.7074e-02, -6.3113e-01,  1.8101e-01,  6.5775e-02,\n",
      "         -2.9431e-01,  3.0913e-01],\n",
      "        [ 5.2279e-01,  2.6663e-01, -2.6538e-02, -5.3929e-01,  4.1767e-02,\n",
      "         -5.2955e-01,  6.8590e-01, -1.1122e-01, -3.1654e-01, -1.4916e-01,\n",
      "         -8.5951e-01, -8.5756e-01],\n",
      "        [ 1.0817e+00, -6.0421e-01,  5.7444e-01, -1.1264e-01,  1.3188e-01,\n",
      "         -1.6866e-01, -1.9277e-01, -7.0961e-01,  5.7133e-02,  1.1874e-01,\n",
      "          5.3669e-01, -5.6950e-01],\n",
      "        [ 3.6571e+00, -3.6414e-02, -1.2907e-01, -1.8019e-01,  1.0607e-01,\n",
      "         -6.5281e-01, -9.7691e-02, -8.1326e-01,  4.0233e-01, -2.5994e-01,\n",
      "         -8.3667e-02,  1.3482e+00],\n",
      "        [ 7.8103e-01,  7.9343e-01,  3.4077e-01,  2.0773e-02,  5.6418e-01,\n",
      "          4.3450e-01,  2.5202e-01,  3.3904e-01,  1.1623e-01,  1.1870e+00,\n",
      "          7.4355e-02, -7.9957e-01],\n",
      "        [-2.5165e-01, -8.0472e-01, -1.3022e+00, -9.9138e-01, -9.8628e-01,\n",
      "         -1.3740e+00, -1.9858e-01,  2.0031e-01, -8.0460e-01, -5.9058e-01,\n",
      "         -1.2860e+00, -1.6511e+00],\n",
      "        [ 8.8884e-01,  3.2349e-01,  1.4800e-01, -1.9141e-01, -4.7494e-01,\n",
      "         -3.6551e-01, -2.1084e-01, -6.4744e-01, -2.0086e-01,  4.4972e-01,\n",
      "          6.7885e-01, -3.0632e-01],\n",
      "        [ 4.5581e-01,  1.0921e+00,  1.5860e-01, -4.5469e-01, -5.4250e-02,\n",
      "         -1.7577e-01, -4.3187e-02,  1.1346e+00, -7.6321e-03, -2.1070e-01,\n",
      "         -1.6993e-01, -9.9924e-02],\n",
      "        [ 2.5075e-01,  3.5766e-01, -4.1569e-01, -5.4319e-01, -2.3935e-01,\n",
      "         -1.3869e-01, -7.4083e-01, -1.7642e-01, -9.4324e-02, -1.4708e-01,\n",
      "          1.4632e-01,  3.8532e-01],\n",
      "        [-1.8651e+00, -1.8235e+00, -1.1752e+00, -1.5673e+00, -1.9713e+00,\n",
      "         -2.0589e+00, -2.3817e+00,        -inf, -2.4116e+00, -1.5906e+00,\n",
      "         -1.0279e+00,  5.3059e-01]])\n",
      "tensor([[nan, nan, nan, nan, nan, nan, nan, nan, nan, nan, nan, nan],\n",
      "        [nan, nan, nan, nan, nan, nan, nan, nan, nan, nan, nan, nan],\n",
      "        [nan, nan, nan, nan, nan, nan, nan, nan, nan, nan, nan, nan],\n",
      "        [nan, nan, nan, nan, nan, nan, nan, nan, nan, nan, nan, nan],\n",
      "        [nan, nan, nan, nan, nan, nan, nan, nan, nan, nan, nan, nan],\n",
      "        [nan, nan, nan, nan, nan, nan, nan, nan, nan, nan, nan, nan],\n",
      "        [nan, nan, nan, nan, nan, nan, nan, nan, nan, nan, nan, nan],\n",
      "        [nan, nan, nan, nan, nan, nan, nan, nan, nan, nan, nan, nan],\n",
      "        [nan, nan, nan, nan, nan, nan, nan, nan, nan, nan, nan, nan],\n",
      "        [nan, nan, nan, nan, nan, nan, nan, nan, nan, nan, nan, nan],\n",
      "        [nan, nan, nan, nan, nan, nan, nan, nan, nan, nan, nan, nan],\n",
      "        [nan, nan, nan, nan, nan, nan, nan, nan, nan, nan, nan, nan]])\n"
     ]
    },
    {
     "data": {
      "image/png": "[encoded data removed]",
      "text/plain": [
       "<Figure size 500x500 with 7 Axes>"
      ]
     },
     "metadata": {},
     "output_type": "display_data"
    }
   ],
   "source": [
    "\n",
    "tamcad_matrix = all_results['TAMCaD'][0]['train_artifacts']['matrix']\n",
    "navar_matrix = all_results['NAVAR'][0]['train_artifacts']['matrix']\n",
    "tamcad_ep = min_max_normalization(all_results['TAMCaD'][0]['train_artifacts']['matrix_ep'])\n",
    "navar_ep = min_max_normalization(all_results['NAVAR'][0]['train_artifacts']['matrix_ep'])\n",
    "\n",
    "print(tamcad_matrix / (tamcad_ep + 0.01))\n",
    "print(torch.log(tamcad_matrix / (tamcad_ep + 0.01)))\n",
    "tamcad_certain = min_max_normalization(torch.log(tamcad_matrix / (tamcad_ep + 0.01)))\n",
    "print(tamcad_certain)\n",
    "\n",
    "plot_heatmaps_grid([[tamcad_matrix, navar_matrix], [tamcad_ep, navar_ep], [tamcad_certain, None]], names=[['TAMCaD', 'NAVAR'], ['TAMCaD (epistemic)', 'NAVAR (epistemic)'], ['', '']] )\n",
    "fig = plt.gcf()\n",
    "fig.set_size_inches(5, 5, forward=True)\n",
    "plt.savefig('heatmap.png', dpi=300)\n",
    "plt.show()"
   ]
  },
  {
   "cell_type": "code",
   "execution_count": null,
   "id": "8a6fedb2-3adb-4cda-a496-2ec6cac2523b",
   "metadata": {},
   "outputs": [],
   "source": []
  },
  {
   "cell_type": "code",
   "execution_count": null,
   "id": "0199b981-5ae9-4a23-b6ed-5361f5b7f682",
   "metadata": {},
   "outputs": [],
   "source": []
  }
 ],
 "metadata": {
  "kernelspec": {
   "display_name": "Python 3 (ipykernel)",
   "language": "python",
   "name": "python3"
  },
  "language_info": {
   "codemirror_mode": {
    "name": "ipython",
    "version": 3
   },
   "file_extension": ".py",
   "mimetype": "text/x-python",
   "name": "python",
   "nbconvert_exporter": "python",
   "pygments_lexer": "ipython3",
   "version": "3.10.14"
  }
 },
 "nbformat": 4,
 "nbformat_minor": 5
}
