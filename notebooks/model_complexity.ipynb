{
 "cells": [
  {
   "cell_type": "markdown",
   "id": "59f3cbeb-7d09-4eec-8741-c368cb62c1dc",
   "metadata": {},
   "source": [
    "### Model complexity: Effect of memorizing data on performance \n",
    "- Run NAVAR, NAVAR-WS, NAVAR-Rec on a complete random dataset (no causal connections)\n",
    "- Show memorization plot\n",
    "- Run NAVAR, NAVAR-WS, NAVAR-Rec, NAVAR-Dropout on (10, 2000, 5) with receptive field of 500 (deep model)\n",
    "- Compare memorization (loss) and performance (AUROC), compute time (ms) and complexity (n_params) does complexity matter?\n",
    "- Table of Models, with their respective: ‘noise-adjusted regression loss’ for memorization and causal model, auroc for causal model, compute time, number of parameters\n",
    "- Show AUROC plot during training -> short training is preferred.\n",
    "- Explain effect of NAVAR’s regularization\n"
   ]
  },
  {
   "cell_type": "code",
   "execution_count": 9,
   "id": "aa2eb6d5-421c-4f92-9507-c738e3622c5e",
   "metadata": {
    "tags": []
   },
   "outputs": [
    {
     "data": {
      "text/plain": [
       "'/home/m4urin/PycharmProjects/temporal-causal-discovery'"
      ]
     },
     "execution_count": 9,
     "metadata": {},
     "output_type": "execute_result"
    }
   ],
   "source": []
  },
  {
   "cell_type": "code",
   "execution_count": 1,
   "id": "56c69085-428e-4ad7-9b01-f82e3cb2e5bc",
   "metadata": {
    "tags": []
   },
   "outputs": [],
   "source": [
    "import torch\n",
    "from torch import nn\n",
    "\n",
    "import sys\n",
    "sys.path.append(\"../\") # if running from this folder\n",
    "\n",
    "from src.models.NAVAR import NAVAR"
   ]
  },
  {
   "cell_type": "code",
   "execution_count": 2,
   "id": "1cdd0540-58b0-4bcf-bbf9-b638b8cbfe3d",
   "metadata": {
    "tags": []
   },
   "outputs": [],
   "source": [
    "random_dataset = torch.randn(1, 5, 8000)"
   ]
  },
  {
   "cell_type": "code",
   "execution_count": 3,
   "id": "6828d3a8-c096-43a5-a027-e82abda5bb6e",
   "metadata": {
    "tags": []
   },
   "outputs": [
    {
     "data": {
      "text/plain": [
       "NAVAR(\n",
       "  (contributions): Sequential(\n",
       "    (0): PositionalEmbedding(\n",
       "      (conv): Conv1d(3, 24, kernel_size=(1,), stride=(1,), groups=3)\n",
       "    )\n",
       "    (1): TCN(\n",
       "      (tcn): DefaultTCN(\n",
       "        (network): Sequential(\n",
       "          (0): TemporalBlock(\n",
       "            (dropout): Dropout(p=0.2, inplace=False)\n",
       "            (relu): ReLU()\n",
       "            (convolutions): ModuleList(\n",
       "              (0-1): 2 x Conv1d(24, 24, kernel_size=(2,), stride=(1,), groups=3)\n",
       "            )\n",
       "          )\n",
       "          (1): ReLU()\n",
       "          (2): Dropout(p=0.2, inplace=False)\n",
       "          (3): TemporalBlock(\n",
       "            (dropout): Dropout(p=0.2, inplace=False)\n",
       "            (relu): ReLU()\n",
       "            (convolutions): ModuleList(\n",
       "              (0-1): 2 x Conv1d(24, 24, kernel_size=(2,), stride=(1,), groups=3)\n",
       "            )\n",
       "          )\n",
       "          (4): ReLU()\n",
       "          (5): Dropout(p=0.2, inplace=False)\n",
       "          (6): Conv1d(24, 9, kernel_size=(1,), stride=(1,), groups=3)\n",
       "        )\n",
       "      )\n",
       "    )\n",
       "  )\n",
       ")"
      ]
     },
     "execution_count": 3,
     "metadata": {},
     "output_type": "execute_result"
    }
   ],
   "source": [
    "model = NAVAR(n_variables=5, hidden_dim=8, lambda1=0.1, dropout=0.2, weight_sharing=False, recurrent=False)\n",
    "model"
   ]
  },
  {
   "cell_type": "code",
   "execution_count": null,
   "id": "70e68f93-b975-4f93-ba83-8a6590b4e20e",
   "metadata": {},
   "outputs": [],
   "source": []
  }
 ],
 "metadata": {
  "kernelspec": {
   "display_name": "Python 3 (ipykernel)",
   "language": "python",
   "name": "python3"
  },
  "language_info": {
   "codemirror_mode": {
    "name": "ipython",
    "version": 3
   },
   "file_extension": ".py",
   "mimetype": "text/x-python",
   "name": "python",
   "nbconvert_exporter": "python",
   "pygments_lexer": "ipython3",
   "version": "3.11.4"
  }
 },
 "nbformat": 4,
 "nbformat_minor": 5
}
