{
 "cells": [
  {
   "cell_type": "markdown",
   "id": "59f3cbeb-7d09-4eec-8741-c368cb62c1dc",
   "metadata": {},
   "source": [
    "### Model complexity: Effect of memorizing data on performance \n",
    "- Run NAVAR, NAVAR-WS, NAVAR-Rec on a complete random dataset (no causal connections)\n",
    "- Show memorization plot\n",
    "- Run NAVAR, NAVAR-WS, NAVAR-Rec, NAVAR-Dropout on (10, 2000, 5) with receptive field of 500 (deep model)\n",
    "- Compare memorization (loss) and performance (AUROC), compute time (ms) and complexity (n_params) does complexity matter?\n",
    "- Table of Models, with their respective: ‘noise-adjusted regression loss’ for memorization and causal model, auroc for causal model, compute time, number of parameters\n",
    "- Show AUROC plot during training -> short training is preferred.\n",
    "- Explain effect of NAVAR’s regularization\n"
   ]
  },
  {
   "cell_type": "code",
   "execution_count": 4,
   "id": "56c69085-428e-4ad7-9b01-f82e3cb2e5bc",
   "metadata": {},
   "outputs": [],
   "source": [
    "import torch\n",
    "from torch import nn"
   ]
  },
  {
   "cell_type": "code",
   "execution_count": 5,
   "id": "1cdd0540-58b0-4bcf-bbf9-b638b8cbfe3d",
   "metadata": {},
   "outputs": [],
   "source": [
    "random_dataset = torch.randn(1, 5, 8000)"
   ]
  },
  {
   "cell_type": "code",
   "execution_count": null,
   "id": "6828d3a8-c096-43a5-a027-e82abda5bb6e",
   "metadata": {},
   "outputs": [],
   "source": []
  }
 ],
 "metadata": {
  "kernelspec": {
   "display_name": "Python 3 (ipykernel)",
   "language": "python",
   "name": "python3"
  },
  "language_info": {
   "codemirror_mode": {
    "name": "ipython",
    "version": 3
   },
   "file_extension": ".py",
   "mimetype": "text/x-python",
   "name": "python",
   "nbconvert_exporter": "python",
   "pygments_lexer": "ipython3",
   "version": "3.9.16"
  }
 },
 "nbformat": 4,
 "nbformat_minor": 5
}
