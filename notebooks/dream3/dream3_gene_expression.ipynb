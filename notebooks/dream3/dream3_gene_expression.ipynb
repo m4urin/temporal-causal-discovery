{
 "cells": [
  {
   "cell_type": "markdown",
   "id": "59f3cbeb-7d09-4eec-8741-c368cb62c1dc",
   "metadata": {},
   "source": [
    "### Dream3"
   ]
  },
  {
   "cell_type": "code",
   "execution_count": 1,
   "id": "56c69085-428e-4ad7-9b01-f82e3cb2e5bc",
   "metadata": {
    "tags": []
   },
   "outputs": [],
   "source": [
    "import sys\n",
    "sys.path.append(\"../../\") # if running from this folder\n",
    "import torch\n",
    "from matplotlib import pyplot as plt\n",
    "import pandas as pd\n",
    "import numpy as np\n",
    "from src.models import NAVAR, TAMCaD\n",
    "from src.data import load_dataset\n",
    "from src.training import train_model, train_test_split\n",
    "from src.eval import plot_contemporaneous_relationships, plot_all_contemporaneous_relationships, plot_heatmaps\n",
    "from tqdm.notebook import trange, tqdm\n",
    "from IPython.display import Image, display\n",
    "from lingam.utils import make_dot"
   ]
  },
  {
   "cell_type": "code",
   "execution_count": 2,
   "id": "1cdd0540-58b0-4bcf-bbf9-b638b8cbfe3d",
   "metadata": {
    "tags": []
   },
   "outputs": [
    {
     "name": "stdout",
     "output_type": "stream",
     "text": [
      "{'name': 'yeast1', 'data': torch.Size([46, 100, 21]), 'ground_truth': torch.Size([100, 100])}\n"
     ]
    }
   ],
   "source": [
    "dataset = load_dataset('dream3', 'yeast1')[0]\n",
    "print({k: v.shape if isinstance(v, torch.Tensor) else v for k, v in dataset.items()})\n",
    "\n",
    "model_variations = {\n",
    "    'TAMCaD': {'model_type': TAMCaD, 'gamma': 0.01},\n",
    "    'NAVAR': {'model_type': NAVAR, 'lambda1': 0.3},\n",
    "}\n",
    "params = {\n",
    "    'experiment_name': 'dream3',\n",
    "    'lr': 1e-4,\n",
    "    'weight_decay': 1e-3,\n",
    "    'test_size': 0.25,\n",
    "    'kernel_size': 2,\n",
    "    'n_blocks': 1,\n",
    "    'n_layers': 1,\n",
    "    'use_positional_embedding': False,\n",
    "    'hidden_dim': 16,\n",
    "    'weight_sharing': False,\n",
    "    'epochs': 30000,\n",
    "    'dropout': 0.2\n",
    "}"
   ]
  },
  {
   "cell_type": "code",
   "execution_count": null,
   "id": "4df6b995-0a00-4821-bb98-39066a10e94b",
   "metadata": {
    "tags": []
   },
   "outputs": [
    {
     "name": "stdout",
     "output_type": "stream",
     "text": [
      "Process TAMCaD\n"
     ]
    },
    {
     "name": "stderr",
     "output_type": "stream",
     "text": [
      "[train] loss=nan,AUROC=0.47 [test] loss=nan,AUROC=0.47:  28%|█████▊               | 8309/30000 [09:45<26:00, 13.90it/s]"
     ]
    }
   ],
   "source": [
    "all_results = {}\n",
    "\n",
    "for id, model_params in model_variations.items():\n",
    "    print('Process', id)\n",
    "    all_results[id] = []\n",
    "    for _ in range(1):\n",
    "        all_results[id].append(train_model(\n",
    "            experiment_run=id,\n",
    "            dataset=dataset,\n",
    "            **model_params,\n",
    "            **params\n",
    "        ))"
   ]
  },
  {
   "cell_type": "code",
   "execution_count": null,
   "id": "70e68f93-b975-4f93-ba83-8a6590b4e20e",
   "metadata": {},
   "outputs": [],
   "source": [
    "# Initialize the arrays to store the data\n",
    "M = len(all_results)  # Number of models\n",
    "N = len(next(iter(all_results.values())))  # Assuming all models have the same number of runs\n",
    "T = len(next(iter(next(iter(all_results.values()))))['test_metrics']['loss'][1])  # Number of timesteps\n",
    "\n",
    "losses = np.zeros((M, N, T))\n",
    "training_times = np.zeros((M, N, T))\n",
    "aurocs = np.zeros((M, N, T))\n",
    "best_aurocs = np.zeros((M, N))\n",
    "\n",
    "# Iterate through each model's results\n",
    "model_names = []\n",
    "for i, (model_name, results_list) in enumerate(all_results.items()):\n",
    "    model_names.append(model_name)\n",
    "    for j, result in enumerate(results_list):\n",
    "        losses[i, j, :] = result['test_metrics']['loss'][1].numpy()\n",
    "        training_times[i, j, :] = np.full(T, 1000 * result['model_params']['training_time_per_epoch'])\n",
    "        aurocs[i, j, :] = result['test_metrics']['AUROC'][1].numpy()\n",
    "        best_aurocs[i, j] = result['test_metrics']['AUROC'][1].max().item()\n",
    "\n",
    "# Compute averages and standard deviations\n",
    "avg_losses = np.mean(losses, axis=1)\n",
    "avg_training_times = np.mean(training_times, axis=1)\n",
    "avg_aurocs = np.mean(aurocs, axis=1)\n",
    "avg_best_aurocs = np.mean(best_aurocs, axis=1)\n",
    "\n",
    "std_losses = np.std(losses, axis=1)\n",
    "std_aurocs = np.std(aurocs, axis=1)\n",
    "\n",
    "# Create the table\n",
    "table_data = {\n",
    "    \"Model\": model_names,\n",
    "    \"AUROC (avg)\": avg_best_aurocs,\n",
    "    \"Loss (avg)\": np.mean(avg_losses, axis=1),\n",
    "    \"Time per Epoch (ms) (avg)\": np.mean(avg_training_times, axis=1)\n",
    "}\n",
    "results_df = pd.DataFrame(table_data)\n",
    "results_df.set_index(\"Model\", inplace=True)\n",
    "results_df.sort_values('AUROC (avg)', ascending=False, inplace=True)\n",
    "results_df"
   ]
  },
  {
   "cell_type": "code",
   "execution_count": null,
   "id": "85d1301b-30c9-4a7a-a998-c41c64c22542",
   "metadata": {},
   "outputs": [],
   "source": [
    "# Time steps for plotting\n",
    "time_steps = np.arange(T)\n",
    "\n",
    "# Plotting Loss for all models\n",
    "plt.figure(figsize=(3.5,3))\n",
    "for i, model_name in enumerate(model_names):\n",
    "    plt.plot(time_steps, avg_losses[i], label=f'{model_name}')\n",
    "    plt.fill_between(time_steps, avg_losses[i] - 2*std_losses[i], avg_losses[i] + 2*std_losses[i], alpha=0.2)\n",
    "\n",
    "plt.title('Noise-adjusted Loss Over Time')\n",
    "plt.xlabel('Time Step')\n",
    "plt.ylabel('Loss')\n",
    "plt.ylim(0.4, 1.0)  # Setting the y-axis limit for loss\n",
    "plt.legend()\n",
    "plt.tight_layout()\n",
    "plt.savefig('noise_loss_plot.png', dpi=200)\n",
    "plt.show()\n",
    "\n",
    "# Plotting AUROC for all models\n",
    "plt.figure(figsize=(3.5,3))\n",
    "for i, model_name in enumerate(model_names):\n",
    "    plt.plot(time_steps, avg_aurocs[i], label=f'{model_name}')\n",
    "    plt.fill_between(time_steps, avg_aurocs[i] - 2*std_aurocs[i], avg_aurocs[i] + 2*std_aurocs[i], alpha=0.2)\n",
    "\n",
    "plt.title('AUROC Over Time')\n",
    "plt.xlabel('Time Step')\n",
    "plt.ylabel('AUROC')\n",
    "plt.ylim(0.4, 0.6)  # Setting the y-axis limit for AUROC\n",
    "plt.legend()\n",
    "plt.tight_layout()\n",
    "plt.savefig('auroc_plot.png', dpi=200)\n",
    "plt.show()\n"
   ]
  },
  {
   "cell_type": "code",
   "execution_count": null,
   "id": "548d95cd-61fc-48fe-8d2c-df1c4595d0d2",
   "metadata": {},
   "outputs": [],
   "source": [
    "matrices = []\n",
    "for i, (model_name, results_list) in enumerate(all_results.items()):\n",
    "    matrices.append(torch.stack([results_list[i]['test_artifacts']['matrix'] for i in range(1)]).mean(dim=0))\n",
    "matrices = torch.stack(matrices)\n",
    "matrices.shape"
   ]
  },
  {
   "cell_type": "code",
   "execution_count": null,
   "id": "0c8505e5-a945-4fde-9b86-0ee78a6622d3",
   "metadata": {},
   "outputs": [],
   "source": [
    "attn_logits = all_results['TAMCaD'][0]['test_artifacts']['attention_logits'].mean(dim=(0, -1))\n",
    "print(attn_logits.shape)\n",
    "tau = 0.2\n",
    "attn_softmax = torch.softmax(attn_logits / tau, dim=-1)\n",
    "attn_softmax.shape"
   ]
  },
  {
   "cell_type": "code",
   "execution_count": null,
   "id": "d90f5bca-8b21-4587-8694-efc1c8de2cf2",
   "metadata": {},
   "outputs": [],
   "source": [
    "plot_heatmaps(dataset['ground_truth'], attn_softmax, *matrices, names=['Gound truth', f'TAMCaD (tau={tau})', 'TAMCaD (logits)', 'NAVAR'] )\n",
    "fig = plt.gcf()\n",
    "fig.set_size_inches(10, 4, forward=True)\n",
    "plt.savefig('heatmap.png', dpi=300)\n",
    "plt.show()"
   ]
  },
  {
   "cell_type": "code",
   "execution_count": null,
   "id": "47bab251-36fc-4080-addf-1951be07e5e8",
   "metadata": {},
   "outputs": [],
   "source": [
    "#def render_graph(file_name, matrix):\n",
    "#    dot_graph = make_dot(matrix, labels=[f\"N{i}\" for i in range(100)])\n",
    "#    dot_graph.format = 'png'\n",
    "#    dot_graph.render(file_name, cleanup=True)\n",
    "#    display(Image(f'{file_name}.png'))"
   ]
  },
  {
   "cell_type": "code",
   "execution_count": null,
   "id": "54fbc43f-dfb4-4e06-88c4-e6fea8762948",
   "metadata": {},
   "outputs": [],
   "source": [
    "#render_graph('test', attn_softmax)"
   ]
  },
  {
   "cell_type": "code",
   "execution_count": null,
   "id": "8a6fedb2-3adb-4cda-a496-2ec6cac2523b",
   "metadata": {},
   "outputs": [],
   "source": []
  }
 ],
 "metadata": {
  "kernelspec": {
   "display_name": "Python 3 (ipykernel)",
   "language": "python",
   "name": "python3"
  },
  "language_info": {
   "codemirror_mode": {
    "name": "ipython",
    "version": 3
   },
   "file_extension": ".py",
   "mimetype": "text/x-python",
   "name": "python",
   "nbconvert_exporter": "python",
   "pygments_lexer": "ipython3",
   "version": "3.10.13"
  }
 },
 "nbformat": 4,
 "nbformat_minor": 5
}
