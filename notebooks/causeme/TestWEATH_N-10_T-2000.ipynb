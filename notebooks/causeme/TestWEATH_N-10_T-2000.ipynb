{
 "cells": [
  {
   "cell_type": "markdown",
   "id": "59f3cbeb-7d09-4eec-8741-c368cb62c1dc",
   "metadata": {},
   "source": [
    "# Causeme"
   ]
  },
  {
   "cell_type": "code",
   "execution_count": 1,
   "id": "56c69085-428e-4ad7-9b01-f82e3cb2e5bc",
   "metadata": {
    "tags": []
   },
   "outputs": [],
   "source": [
    "import sys\n",
    "sys.path.append(\"../../\") # if running from this folder\n",
    "import torch\n",
    "from matplotlib import pyplot as plt\n",
    "import pandas as pd\n",
    "import numpy as np\n",
    "from src.models import NAVAR, TAMCaD, TAMCaD_UA\n",
    "from src.training import train_model, train_test_split\n",
    "from tqdm.notebook import trange, tqdm\n",
    "from src.utils import load_data, write_causeme_predictions\n",
    "from src.eval import plot_heatmaps"
   ]
  },
  {
   "cell_type": "code",
   "execution_count": 2,
   "id": "338b85ca-0b99-4d24-a1cb-7873051b92e4",
   "metadata": {},
   "outputs": [],
   "source": [
    "name = 'TestWEATH_N-10_T-2000'\n",
    "test = False"
   ]
  },
  {
   "cell_type": "code",
   "execution_count": 3,
   "id": "18e7483e-4a98-4548-a6ec-73146694b0da",
   "metadata": {},
   "outputs": [
    {
     "name": "stdout",
     "output_type": "stream",
     "text": [
      "{'name': 'TestWEATH_N-10_T-2000', 'data': torch.Size([200, 10, 2000])}\n"
     ]
    }
   ],
   "source": [
    "dataset = load_data('causeme', name).as_dict()\n",
    "print({k: v.shape if isinstance(v, torch.Tensor) else v for k, v in dataset.items()})"
   ]
  },
  {
   "cell_type": "code",
   "execution_count": 4,
   "id": "1b2ddf8d-92a3-4fad-8782-9a892e136452",
   "metadata": {},
   "outputs": [],
   "source": [
    "def plot_causal_matrix(_results, plot_ep=False):\n",
    "    _results = _results[:5]\n",
    "    plot_heatmaps(*[r['test_artifacts']['matrix'] for r in _results], names=[f\"Dataset {i+1}\" for i in range(len(_results))])\n",
    "    fig = plt.gcf()\n",
    "    fig.set_size_inches(3 * len(_results) + 1, 3, forward=True)\n",
    "    plt.savefig(f'{name}_heatmap.png', dpi=180)\n",
    "    plt.show()\n",
    "    if plot_ep:\n",
    "        plot_heatmaps(*[r['test_artifacts']['matrix_ep'] for r in _results], names=[f\"Dataset {i+1}\" for i in range(len(_results))])\n",
    "        fig = plt.gcf()\n",
    "        fig.set_size_inches(3 * len(_results) + 1, 3, forward=True)\n",
    "        plt.savefig(f'{name}_heatmap.png', dpi=180)\n",
    "        plt.show()"
   ]
  },
  {
   "cell_type": "code",
   "execution_count": 5,
   "id": "3cdeb25c-1316-45ab-8394-ab7de1417a54",
   "metadata": {},
   "outputs": [],
   "source": [
    "params = {\n",
    "    'model_type': NAVAR, \n",
    "    'lambda1': 0.1,\n",
    "    'hidden_dim': 16, \n",
    "    'weight_sharing': True, \n",
    "    'epochs': 800,\n",
    "    'dropout': 0.2,\n",
    "    'experiment_name': 'causeme',\n",
    "    'lr': 1e-3,\n",
    "    'weight_decay': 1e-8,\n",
    "    'test_size': 0.3,\n",
    "    'kernel_size': 2,\n",
    "    'n_blocks': 2,\n",
    "    'n_layers': 2,\n",
    "    'use_positional_embedding': False\n",
    "}\n",
    "if test:\n",
    "    all_test_results = []\n",
    "    for i in range(1):\n",
    "        all_test_results.append(train_model(\n",
    "            experiment_run=name,\n",
    "            dataset={'name': dataset['name'], 'data':dataset['data'][i:i+1]},\n",
    "            **params))\n",
    "    print(all_test_results[0].keys())\n",
    "    \n",
    "    plt.plot(*all_test_results[0]['train_metrics']['loss'], label='train')\n",
    "    plt.plot(*all_test_results[0]['test_metrics']['loss'], label='test')\n",
    "    plt.legend()\n",
    "    plt.show()"
   ]
  },
  {
   "cell_type": "code",
   "execution_count": 7,
   "id": "1cdd0540-58b0-4bcf-bbf9-b638b8cbfe3d",
   "metadata": {
    "tags": []
   },
   "outputs": [
    {
     "name": "stdout",
     "output_type": "stream",
     "text": [
      "Dataset 1/200\n"
     ]
    },
    {
     "name": "stderr",
     "output_type": "stream",
     "text": [
      "[train] loss=0.51 [test] loss=0.45: 100%|████████████████████████████████████████████| 350/350 [00:26<00:00, 12.99it/s]\n"
     ]
    },
    {
     "name": "stdout",
     "output_type": "stream",
     "text": [
      "Dataset 2/200\n"
     ]
    },
    {
     "name": "stderr",
     "output_type": "stream",
     "text": [
      "[train] loss=0.48 [test] loss=0.43: 100%|████████████████████████████████████████████| 350/350 [00:27<00:00, 12.65it/s]\n"
     ]
    },
    {
     "name": "stdout",
     "output_type": "stream",
     "text": [
      "Dataset 3/200\n"
     ]
    },
    {
     "name": "stderr",
     "output_type": "stream",
     "text": [
      "[train] loss=0.32 [test] loss=0.27: 100%|████████████████████████████████████████████| 350/350 [00:28<00:00, 12.22it/s]\n"
     ]
    },
    {
     "name": "stdout",
     "output_type": "stream",
     "text": [
      "Dataset 4/200\n"
     ]
    },
    {
     "name": "stderr",
     "output_type": "stream",
     "text": [
      "[train] loss=0.24 [test] loss=0.17: 100%|████████████████████████████████████████████| 350/350 [00:25<00:00, 13.65it/s]\n"
     ]
    },
    {
     "name": "stdout",
     "output_type": "stream",
     "text": [
      "Dataset 5/200\n"
     ]
    },
    {
     "name": "stderr",
     "output_type": "stream",
     "text": [
      "[train] loss=0.46 [test] loss=0.39: 100%|████████████████████████████████████████████| 350/350 [00:24<00:00, 14.11it/s]\n"
     ]
    },
    {
     "name": "stdout",
     "output_type": "stream",
     "text": [
      "Dataset 6/200\n"
     ]
    },
    {
     "name": "stderr",
     "output_type": "stream",
     "text": [
      "[train] loss=0.34 [test] loss=0.29: 100%|████████████████████████████████████████████| 350/350 [00:24<00:00, 14.06it/s]\n"
     ]
    },
    {
     "name": "stdout",
     "output_type": "stream",
     "text": [
      "Dataset 7/200\n"
     ]
    },
    {
     "name": "stderr",
     "output_type": "stream",
     "text": [
      "[train] loss=0.37 [test] loss=0.35: 100%|████████████████████████████████████████████| 350/350 [00:25<00:00, 13.78it/s]\n"
     ]
    },
    {
     "name": "stdout",
     "output_type": "stream",
     "text": [
      "Dataset 8/200\n"
     ]
    },
    {
     "name": "stderr",
     "output_type": "stream",
     "text": [
      "[train] loss=0.26 [test] loss=0.19: 100%|████████████████████████████████████████████| 350/350 [00:26<00:00, 13.05it/s]\n"
     ]
    },
    {
     "name": "stdout",
     "output_type": "stream",
     "text": [
      "Dataset 9/200\n"
     ]
    },
    {
     "name": "stderr",
     "output_type": "stream",
     "text": [
      "[train] loss=0.67 [test] loss=0.65: 100%|████████████████████████████████████████████| 350/350 [00:27<00:00, 12.54it/s]\n"
     ]
    },
    {
     "name": "stdout",
     "output_type": "stream",
     "text": [
      "Dataset 10/200\n"
     ]
    },
    {
     "name": "stderr",
     "output_type": "stream",
     "text": [
      "[train] loss=0.48 [test] loss=0.44: 100%|████████████████████████████████████████████| 350/350 [00:24<00:00, 14.08it/s]\n"
     ]
    },
    {
     "name": "stdout",
     "output_type": "stream",
     "text": [
      "Dataset 11/200\n"
     ]
    },
    {
     "name": "stderr",
     "output_type": "stream",
     "text": [
      "[train] loss=0.27 [test] loss=0.19: 100%|████████████████████████████████████████████| 350/350 [00:26<00:00, 13.33it/s]\n"
     ]
    },
    {
     "name": "stdout",
     "output_type": "stream",
     "text": [
      "Dataset 12/200\n"
     ]
    },
    {
     "name": "stderr",
     "output_type": "stream",
     "text": [
      "[train] loss=0.49 [test] loss=0.44: 100%|████████████████████████████████████████████| 350/350 [00:29<00:00, 11.79it/s]\n"
     ]
    },
    {
     "name": "stdout",
     "output_type": "stream",
     "text": [
      "Dataset 13/200\n"
     ]
    },
    {
     "name": "stderr",
     "output_type": "stream",
     "text": [
      "[train] loss=0.51 [test] loss=0.45: 100%|████████████████████████████████████████████| 350/350 [00:24<00:00, 14.15it/s]\n"
     ]
    },
    {
     "name": "stdout",
     "output_type": "stream",
     "text": [
      "Dataset 14/200\n"
     ]
    },
    {
     "name": "stderr",
     "output_type": "stream",
     "text": [
      "[train] loss=0.50 [test] loss=0.45: 100%|████████████████████████████████████████████| 350/350 [00:26<00:00, 13.46it/s]\n"
     ]
    },
    {
     "name": "stdout",
     "output_type": "stream",
     "text": [
      "Dataset 15/200\n"
     ]
    },
    {
     "name": "stderr",
     "output_type": "stream",
     "text": [
      "[train] loss=0.46 [test] loss=0.43: 100%|████████████████████████████████████████████| 350/350 [00:26<00:00, 13.03it/s]\n"
     ]
    },
    {
     "name": "stdout",
     "output_type": "stream",
     "text": [
      "Dataset 16/200\n"
     ]
    },
    {
     "name": "stderr",
     "output_type": "stream",
     "text": [
      "[train] loss=0.57 [test] loss=0.55: 100%|████████████████████████████████████████████| 350/350 [00:25<00:00, 13.68it/s]\n"
     ]
    },
    {
     "name": "stdout",
     "output_type": "stream",
     "text": [
      "Dataset 17/200\n"
     ]
    },
    {
     "name": "stderr",
     "output_type": "stream",
     "text": [
      "[train] loss=0.52 [test] loss=0.46: 100%|████████████████████████████████████████████| 350/350 [00:25<00:00, 13.51it/s]\n"
     ]
    },
    {
     "name": "stdout",
     "output_type": "stream",
     "text": [
      "Dataset 18/200\n"
     ]
    },
    {
     "name": "stderr",
     "output_type": "stream",
     "text": [
      "[train] loss=0.55 [test] loss=0.48: 100%|████████████████████████████████████████████| 350/350 [00:25<00:00, 13.64it/s]\n"
     ]
    },
    {
     "name": "stdout",
     "output_type": "stream",
     "text": [
      "Dataset 19/200\n"
     ]
    },
    {
     "name": "stderr",
     "output_type": "stream",
     "text": [
      "[train] loss=0.54 [test] loss=0.55: 100%|████████████████████████████████████████████| 350/350 [00:25<00:00, 13.66it/s]\n"
     ]
    },
    {
     "name": "stdout",
     "output_type": "stream",
     "text": [
      "Dataset 20/200\n"
     ]
    },
    {
     "name": "stderr",
     "output_type": "stream",
     "text": [
      "[train] loss=0.48 [test] loss=0.44: 100%|████████████████████████████████████████████| 350/350 [00:31<00:00, 11.17it/s]\n"
     ]
    },
    {
     "name": "stdout",
     "output_type": "stream",
     "text": [
      "Dataset 21/200\n"
     ]
    },
    {
     "name": "stderr",
     "output_type": "stream",
     "text": [
      "[train] loss=0.58 [test] loss=0.58: 100%|████████████████████████████████████████████| 350/350 [00:29<00:00, 11.96it/s]\n"
     ]
    },
    {
     "name": "stdout",
     "output_type": "stream",
     "text": [
      "Dataset 22/200\n"
     ]
    },
    {
     "name": "stderr",
     "output_type": "stream",
     "text": [
      "[train] loss=0.44 [test] loss=0.39: 100%|████████████████████████████████████████████| 350/350 [00:29<00:00, 11.74it/s]\n"
     ]
    },
    {
     "name": "stdout",
     "output_type": "stream",
     "text": [
      "Dataset 23/200\n"
     ]
    },
    {
     "name": "stderr",
     "output_type": "stream",
     "text": [
      "[train] loss=0.49 [test] loss=0.44: 100%|████████████████████████████████████████████| 350/350 [00:27<00:00, 12.52it/s]\n"
     ]
    },
    {
     "name": "stdout",
     "output_type": "stream",
     "text": [
      "Dataset 24/200\n"
     ]
    },
    {
     "name": "stderr",
     "output_type": "stream",
     "text": [
      "[train] loss=0.38 [test] loss=0.33: 100%|████████████████████████████████████████████| 350/350 [00:22<00:00, 15.29it/s]\n"
     ]
    },
    {
     "name": "stdout",
     "output_type": "stream",
     "text": [
      "Dataset 25/200\n"
     ]
    },
    {
     "name": "stderr",
     "output_type": "stream",
     "text": [
      "[train] loss=0.35 [test] loss=0.31: 100%|████████████████████████████████████████████| 350/350 [00:19<00:00, 18.39it/s]\n"
     ]
    },
    {
     "name": "stdout",
     "output_type": "stream",
     "text": [
      "Dataset 26/200\n"
     ]
    },
    {
     "name": "stderr",
     "output_type": "stream",
     "text": [
      "[train] loss=0.42 [test] loss=0.36: 100%|████████████████████████████████████████████| 350/350 [00:19<00:00, 18.40it/s]\n"
     ]
    },
    {
     "name": "stdout",
     "output_type": "stream",
     "text": [
      "Dataset 27/200\n"
     ]
    },
    {
     "name": "stderr",
     "output_type": "stream",
     "text": [
      "[train] loss=0.60 [test] loss=0.57: 100%|████████████████████████████████████████████| 350/350 [00:19<00:00, 18.18it/s]\n"
     ]
    },
    {
     "name": "stdout",
     "output_type": "stream",
     "text": [
      "Dataset 28/200\n"
     ]
    },
    {
     "name": "stderr",
     "output_type": "stream",
     "text": [
      "[train] loss=0.40 [test] loss=0.32: 100%|████████████████████████████████████████████| 350/350 [00:19<00:00, 18.29it/s]\n"
     ]
    },
    {
     "name": "stdout",
     "output_type": "stream",
     "text": [
      "Dataset 29/200\n"
     ]
    },
    {
     "name": "stderr",
     "output_type": "stream",
     "text": [
      "[train] loss=0.42 [test] loss=0.40: 100%|████████████████████████████████████████████| 350/350 [00:19<00:00, 18.41it/s]\n"
     ]
    },
    {
     "name": "stdout",
     "output_type": "stream",
     "text": [
      "Dataset 30/200\n"
     ]
    },
    {
     "name": "stderr",
     "output_type": "stream",
     "text": [
      "[train] loss=0.47 [test] loss=0.38: 100%|████████████████████████████████████████████| 350/350 [00:18<00:00, 18.60it/s]\n"
     ]
    },
    {
     "name": "stdout",
     "output_type": "stream",
     "text": [
      "Dataset 31/200\n"
     ]
    },
    {
     "name": "stderr",
     "output_type": "stream",
     "text": [
      "[train] loss=0.56 [test] loss=0.52: 100%|████████████████████████████████████████████| 350/350 [00:18<00:00, 18.49it/s]\n"
     ]
    },
    {
     "name": "stdout",
     "output_type": "stream",
     "text": [
      "Dataset 32/200\n"
     ]
    },
    {
     "name": "stderr",
     "output_type": "stream",
     "text": [
      "[train] loss=0.34 [test] loss=0.28: 100%|████████████████████████████████████████████| 350/350 [00:18<00:00, 18.54it/s]\n"
     ]
    },
    {
     "name": "stdout",
     "output_type": "stream",
     "text": [
      "Dataset 33/200\n"
     ]
    },
    {
     "name": "stderr",
     "output_type": "stream",
     "text": [
      "[train] loss=0.38 [test] loss=0.36: 100%|████████████████████████████████████████████| 350/350 [00:18<00:00, 18.46it/s]\n"
     ]
    },
    {
     "name": "stdout",
     "output_type": "stream",
     "text": [
      "Dataset 34/200\n"
     ]
    },
    {
     "name": "stderr",
     "output_type": "stream",
     "text": [
      "[train] loss=0.52 [test] loss=0.47: 100%|████████████████████████████████████████████| 350/350 [00:18<00:00, 18.55it/s]\n"
     ]
    },
    {
     "name": "stdout",
     "output_type": "stream",
     "text": [
      "Dataset 35/200\n"
     ]
    },
    {
     "name": "stderr",
     "output_type": "stream",
     "text": [
      "[train] loss=0.46 [test] loss=0.40: 100%|████████████████████████████████████████████| 350/350 [00:19<00:00, 18.42it/s]\n"
     ]
    },
    {
     "name": "stdout",
     "output_type": "stream",
     "text": [
      "Dataset 36/200\n"
     ]
    },
    {
     "name": "stderr",
     "output_type": "stream",
     "text": [
      "[train] loss=0.35 [test] loss=0.30: 100%|████████████████████████████████████████████| 350/350 [00:19<00:00, 18.36it/s]\n"
     ]
    },
    {
     "name": "stdout",
     "output_type": "stream",
     "text": [
      "Dataset 37/200\n"
     ]
    },
    {
     "name": "stderr",
     "output_type": "stream",
     "text": [
      "[train] loss=0.50 [test] loss=0.47: 100%|████████████████████████████████████████████| 350/350 [00:18<00:00, 18.56it/s]\n"
     ]
    },
    {
     "name": "stdout",
     "output_type": "stream",
     "text": [
      "Dataset 38/200\n"
     ]
    },
    {
     "name": "stderr",
     "output_type": "stream",
     "text": [
      "[train] loss=0.49 [test] loss=0.40: 100%|████████████████████████████████████████████| 350/350 [00:18<00:00, 18.43it/s]\n"
     ]
    },
    {
     "name": "stdout",
     "output_type": "stream",
     "text": [
      "Dataset 39/200\n"
     ]
    },
    {
     "name": "stderr",
     "output_type": "stream",
     "text": [
      "[train] loss=0.50 [test] loss=0.45: 100%|████████████████████████████████████████████| 350/350 [00:18<00:00, 18.43it/s]\n"
     ]
    },
    {
     "name": "stdout",
     "output_type": "stream",
     "text": [
      "Dataset 40/200\n"
     ]
    },
    {
     "name": "stderr",
     "output_type": "stream",
     "text": [
      "[train] loss=0.56 [test] loss=0.51: 100%|████████████████████████████████████████████| 350/350 [00:18<00:00, 18.43it/s]\n"
     ]
    },
    {
     "name": "stdout",
     "output_type": "stream",
     "text": [
      "Dataset 41/200\n"
     ]
    },
    {
     "name": "stderr",
     "output_type": "stream",
     "text": [
      "[train] loss=0.56 [test] loss=0.52: 100%|████████████████████████████████████████████| 350/350 [00:18<00:00, 18.60it/s]\n"
     ]
    },
    {
     "name": "stdout",
     "output_type": "stream",
     "text": [
      "Dataset 42/200\n"
     ]
    },
    {
     "name": "stderr",
     "output_type": "stream",
     "text": [
      "[train] loss=0.51 [test] loss=0.44: 100%|████████████████████████████████████████████| 350/350 [00:18<00:00, 18.59it/s]\n"
     ]
    },
    {
     "name": "stdout",
     "output_type": "stream",
     "text": [
      "Dataset 43/200\n"
     ]
    },
    {
     "name": "stderr",
     "output_type": "stream",
     "text": [
      "[train] loss=0.44 [test] loss=0.37: 100%|████████████████████████████████████████████| 350/350 [00:18<00:00, 18.47it/s]\n"
     ]
    },
    {
     "name": "stdout",
     "output_type": "stream",
     "text": [
      "Dataset 44/200\n"
     ]
    },
    {
     "name": "stderr",
     "output_type": "stream",
     "text": [
      "[train] loss=0.62 [test] loss=0.58: 100%|████████████████████████████████████████████| 350/350 [00:18<00:00, 18.61it/s]\n"
     ]
    },
    {
     "name": "stdout",
     "output_type": "stream",
     "text": [
      "Dataset 45/200\n"
     ]
    },
    {
     "name": "stderr",
     "output_type": "stream",
     "text": [
      "[train] loss=0.43 [test] loss=0.39: 100%|████████████████████████████████████████████| 350/350 [00:18<00:00, 18.54it/s]\n"
     ]
    },
    {
     "name": "stdout",
     "output_type": "stream",
     "text": [
      "Dataset 46/200\n"
     ]
    },
    {
     "name": "stderr",
     "output_type": "stream",
     "text": [
      "[train] loss=0.43 [test] loss=0.41: 100%|████████████████████████████████████████████| 350/350 [00:19<00:00, 18.37it/s]\n"
     ]
    },
    {
     "name": "stdout",
     "output_type": "stream",
     "text": [
      "Dataset 47/200\n"
     ]
    },
    {
     "name": "stderr",
     "output_type": "stream",
     "text": [
      "[train] loss=0.33 [test] loss=0.32: 100%|████████████████████████████████████████████| 350/350 [00:18<00:00, 18.49it/s]\n"
     ]
    },
    {
     "name": "stdout",
     "output_type": "stream",
     "text": [
      "Dataset 48/200\n"
     ]
    },
    {
     "name": "stderr",
     "output_type": "stream",
     "text": [
      "[train] loss=0.30 [test] loss=0.24: 100%|████████████████████████████████████████████| 350/350 [00:18<00:00, 18.58it/s]\n"
     ]
    },
    {
     "name": "stdout",
     "output_type": "stream",
     "text": [
      "Dataset 49/200\n"
     ]
    },
    {
     "name": "stderr",
     "output_type": "stream",
     "text": [
      "[train] loss=0.24 [test] loss=0.16: 100%|████████████████████████████████████████████| 350/350 [00:18<00:00, 18.54it/s]\n"
     ]
    },
    {
     "name": "stdout",
     "output_type": "stream",
     "text": [
      "Dataset 50/200\n"
     ]
    },
    {
     "name": "stderr",
     "output_type": "stream",
     "text": [
      "[train] loss=0.41 [test] loss=0.34: 100%|████████████████████████████████████████████| 350/350 [00:18<00:00, 18.57it/s]\n"
     ]
    },
    {
     "name": "stdout",
     "output_type": "stream",
     "text": [
      "Dataset 51/200\n"
     ]
    },
    {
     "name": "stderr",
     "output_type": "stream",
     "text": [
      "[train] loss=0.56 [test] loss=0.53: 100%|████████████████████████████████████████████| 350/350 [00:18<00:00, 18.59it/s]\n"
     ]
    },
    {
     "name": "stdout",
     "output_type": "stream",
     "text": [
      "Dataset 52/200\n"
     ]
    },
    {
     "name": "stderr",
     "output_type": "stream",
     "text": [
      "[train] loss=0.35 [test] loss=0.32: 100%|████████████████████████████████████████████| 350/350 [00:18<00:00, 18.43it/s]\n"
     ]
    },
    {
     "name": "stdout",
     "output_type": "stream",
     "text": [
      "Dataset 53/200\n"
     ]
    },
    {
     "name": "stderr",
     "output_type": "stream",
     "text": [
      "[train] loss=0.29 [test] loss=0.27: 100%|████████████████████████████████████████████| 350/350 [00:18<00:00, 18.59it/s]\n"
     ]
    },
    {
     "name": "stdout",
     "output_type": "stream",
     "text": [
      "Dataset 54/200\n"
     ]
    },
    {
     "name": "stderr",
     "output_type": "stream",
     "text": [
      "[train] loss=0.52 [test] loss=0.46: 100%|████████████████████████████████████████████| 350/350 [00:18<00:00, 18.50it/s]\n"
     ]
    },
    {
     "name": "stdout",
     "output_type": "stream",
     "text": [
      "Dataset 55/200\n"
     ]
    },
    {
     "name": "stderr",
     "output_type": "stream",
     "text": [
      "[train] loss=0.43 [test] loss=0.36: 100%|████████████████████████████████████████████| 350/350 [00:19<00:00, 18.24it/s]\n"
     ]
    },
    {
     "name": "stdout",
     "output_type": "stream",
     "text": [
      "Dataset 56/200\n"
     ]
    },
    {
     "name": "stderr",
     "output_type": "stream",
     "text": [
      "[train] loss=0.34 [test] loss=0.28: 100%|████████████████████████████████████████████| 350/350 [00:18<00:00, 18.54it/s]\n"
     ]
    },
    {
     "name": "stdout",
     "output_type": "stream",
     "text": [
      "Dataset 57/200\n"
     ]
    },
    {
     "name": "stderr",
     "output_type": "stream",
     "text": [
      "[train] loss=0.39 [test] loss=0.37: 100%|████████████████████████████████████████████| 350/350 [00:18<00:00, 18.51it/s]\n"
     ]
    },
    {
     "name": "stdout",
     "output_type": "stream",
     "text": [
      "Dataset 58/200\n"
     ]
    },
    {
     "name": "stderr",
     "output_type": "stream",
     "text": [
      "[train] loss=0.43 [test] loss=0.39: 100%|████████████████████████████████████████████| 350/350 [00:18<00:00, 18.44it/s]\n"
     ]
    },
    {
     "name": "stdout",
     "output_type": "stream",
     "text": [
      "Dataset 59/200\n"
     ]
    },
    {
     "name": "stderr",
     "output_type": "stream",
     "text": [
      "[train] loss=0.43 [test] loss=0.38: 100%|████████████████████████████████████████████| 350/350 [00:18<00:00, 18.52it/s]\n"
     ]
    },
    {
     "name": "stdout",
     "output_type": "stream",
     "text": [
      "Dataset 60/200\n"
     ]
    },
    {
     "name": "stderr",
     "output_type": "stream",
     "text": [
      "[train] loss=0.38 [test] loss=0.30: 100%|████████████████████████████████████████████| 350/350 [00:18<00:00, 18.54it/s]\n"
     ]
    },
    {
     "name": "stdout",
     "output_type": "stream",
     "text": [
      "Dataset 61/200\n"
     ]
    },
    {
     "name": "stderr",
     "output_type": "stream",
     "text": [
      "[train] loss=0.70 [test] loss=0.65: 100%|████████████████████████████████████████████| 350/350 [00:18<00:00, 18.62it/s]\n"
     ]
    },
    {
     "name": "stdout",
     "output_type": "stream",
     "text": [
      "Dataset 62/200\n"
     ]
    },
    {
     "name": "stderr",
     "output_type": "stream",
     "text": [
      "[train] loss=0.39 [test] loss=0.34: 100%|████████████████████████████████████████████| 350/350 [00:18<00:00, 18.52it/s]\n"
     ]
    },
    {
     "name": "stdout",
     "output_type": "stream",
     "text": [
      "Dataset 63/200\n"
     ]
    },
    {
     "name": "stderr",
     "output_type": "stream",
     "text": [
      "[train] loss=0.43 [test] loss=0.38: 100%|████████████████████████████████████████████| 350/350 [00:19<00:00, 18.40it/s]\n"
     ]
    },
    {
     "name": "stdout",
     "output_type": "stream",
     "text": [
      "Dataset 64/200\n"
     ]
    },
    {
     "name": "stderr",
     "output_type": "stream",
     "text": [
      "[train] loss=0.22 [test] loss=0.17: 100%|████████████████████████████████████████████| 350/350 [00:18<00:00, 18.53it/s]\n"
     ]
    },
    {
     "name": "stdout",
     "output_type": "stream",
     "text": [
      "Dataset 65/200\n"
     ]
    },
    {
     "name": "stderr",
     "output_type": "stream",
     "text": [
      "[train] loss=0.43 [test] loss=0.36: 100%|████████████████████████████████████████████| 350/350 [00:18<00:00, 18.55it/s]\n"
     ]
    },
    {
     "name": "stdout",
     "output_type": "stream",
     "text": [
      "Dataset 66/200\n"
     ]
    },
    {
     "name": "stderr",
     "output_type": "stream",
     "text": [
      "[train] loss=0.41 [test] loss=0.37: 100%|████████████████████████████████████████████| 350/350 [00:18<00:00, 18.47it/s]\n"
     ]
    },
    {
     "name": "stdout",
     "output_type": "stream",
     "text": [
      "Dataset 67/200\n"
     ]
    },
    {
     "name": "stderr",
     "output_type": "stream",
     "text": [
      "[train] loss=0.51 [test] loss=0.42: 100%|████████████████████████████████████████████| 350/350 [00:18<00:00, 18.52it/s]\n"
     ]
    },
    {
     "name": "stdout",
     "output_type": "stream",
     "text": [
      "Dataset 68/200\n"
     ]
    },
    {
     "name": "stderr",
     "output_type": "stream",
     "text": [
      "[train] loss=0.32 [test] loss=0.26: 100%|████████████████████████████████████████████| 350/350 [00:18<00:00, 18.53it/s]\n"
     ]
    },
    {
     "name": "stdout",
     "output_type": "stream",
     "text": [
      "Dataset 69/200\n"
     ]
    },
    {
     "name": "stderr",
     "output_type": "stream",
     "text": [
      "[train] loss=0.26 [test] loss=0.24: 100%|████████████████████████████████████████████| 350/350 [00:18<00:00, 18.46it/s]\n"
     ]
    },
    {
     "name": "stdout",
     "output_type": "stream",
     "text": [
      "Dataset 70/200\n"
     ]
    },
    {
     "name": "stderr",
     "output_type": "stream",
     "text": [
      "[train] loss=0.42 [test] loss=0.35: 100%|████████████████████████████████████████████| 350/350 [00:18<00:00, 18.52it/s]\n"
     ]
    },
    {
     "name": "stdout",
     "output_type": "stream",
     "text": [
      "Dataset 71/200\n"
     ]
    },
    {
     "name": "stderr",
     "output_type": "stream",
     "text": [
      "[train] loss=0.69 [test] loss=0.65: 100%|████████████████████████████████████████████| 350/350 [00:18<00:00, 18.43it/s]\n"
     ]
    },
    {
     "name": "stdout",
     "output_type": "stream",
     "text": [
      "Dataset 72/200\n"
     ]
    },
    {
     "name": "stderr",
     "output_type": "stream",
     "text": [
      "[train] loss=0.67 [test] loss=0.65: 100%|████████████████████████████████████████████| 350/350 [00:18<00:00, 18.53it/s]\n"
     ]
    },
    {
     "name": "stdout",
     "output_type": "stream",
     "text": [
      "Dataset 73/200\n"
     ]
    },
    {
     "name": "stderr",
     "output_type": "stream",
     "text": [
      "[train] loss=0.45 [test] loss=0.39: 100%|████████████████████████████████████████████| 350/350 [00:18<00:00, 18.56it/s]\n"
     ]
    },
    {
     "name": "stdout",
     "output_type": "stream",
     "text": [
      "Dataset 74/200\n"
     ]
    },
    {
     "name": "stderr",
     "output_type": "stream",
     "text": [
      "[train] loss=0.36 [test] loss=0.30: 100%|████████████████████████████████████████████| 350/350 [00:18<00:00, 18.49it/s]\n"
     ]
    },
    {
     "name": "stdout",
     "output_type": "stream",
     "text": [
      "Dataset 75/200\n"
     ]
    },
    {
     "name": "stderr",
     "output_type": "stream",
     "text": [
      "[train] loss=0.48 [test] loss=0.43: 100%|████████████████████████████████████████████| 350/350 [00:19<00:00, 18.35it/s]\n"
     ]
    },
    {
     "name": "stdout",
     "output_type": "stream",
     "text": [
      "Dataset 76/200\n"
     ]
    },
    {
     "name": "stderr",
     "output_type": "stream",
     "text": [
      "[train] loss=0.48 [test] loss=0.45: 100%|████████████████████████████████████████████| 350/350 [00:19<00:00, 18.41it/s]\n"
     ]
    },
    {
     "name": "stdout",
     "output_type": "stream",
     "text": [
      "Dataset 77/200\n"
     ]
    },
    {
     "name": "stderr",
     "output_type": "stream",
     "text": [
      "[train] loss=0.52 [test] loss=0.48: 100%|████████████████████████████████████████████| 350/350 [00:18<00:00, 18.49it/s]\n"
     ]
    },
    {
     "name": "stdout",
     "output_type": "stream",
     "text": [
      "Dataset 78/200\n"
     ]
    },
    {
     "name": "stderr",
     "output_type": "stream",
     "text": [
      "[train] loss=0.39 [test] loss=0.33: 100%|████████████████████████████████████████████| 350/350 [00:18<00:00, 18.46it/s]\n"
     ]
    },
    {
     "name": "stdout",
     "output_type": "stream",
     "text": [
      "Dataset 79/200\n"
     ]
    },
    {
     "name": "stderr",
     "output_type": "stream",
     "text": [
      "[train] loss=0.33 [test] loss=0.24: 100%|████████████████████████████████████████████| 350/350 [00:18<00:00, 18.48it/s]\n"
     ]
    },
    {
     "name": "stdout",
     "output_type": "stream",
     "text": [
      "Dataset 80/200\n"
     ]
    },
    {
     "name": "stderr",
     "output_type": "stream",
     "text": [
      "[train] loss=0.49 [test] loss=0.43: 100%|████████████████████████████████████████████| 350/350 [00:18<00:00, 18.50it/s]\n"
     ]
    },
    {
     "name": "stdout",
     "output_type": "stream",
     "text": [
      "Dataset 81/200\n"
     ]
    },
    {
     "name": "stderr",
     "output_type": "stream",
     "text": [
      "[train] loss=0.47 [test] loss=0.40: 100%|████████████████████████████████████████████| 350/350 [00:18<00:00, 18.53it/s]\n"
     ]
    },
    {
     "name": "stdout",
     "output_type": "stream",
     "text": [
      "Dataset 82/200\n"
     ]
    },
    {
     "name": "stderr",
     "output_type": "stream",
     "text": [
      "[train] loss=0.54 [test] loss=0.48: 100%|████████████████████████████████████████████| 350/350 [00:18<00:00, 18.47it/s]\n"
     ]
    },
    {
     "name": "stdout",
     "output_type": "stream",
     "text": [
      "Dataset 83/200\n"
     ]
    },
    {
     "name": "stderr",
     "output_type": "stream",
     "text": [
      "[train] loss=0.59 [test] loss=0.55: 100%|████████████████████████████████████████████| 350/350 [00:18<00:00, 18.43it/s]\n"
     ]
    },
    {
     "name": "stdout",
     "output_type": "stream",
     "text": [
      "Dataset 84/200\n"
     ]
    },
    {
     "name": "stderr",
     "output_type": "stream",
     "text": [
      "[train] loss=0.50 [test] loss=0.44: 100%|████████████████████████████████████████████| 350/350 [00:18<00:00, 18.46it/s]\n"
     ]
    },
    {
     "name": "stdout",
     "output_type": "stream",
     "text": [
      "Dataset 85/200\n"
     ]
    },
    {
     "name": "stderr",
     "output_type": "stream",
     "text": [
      "[train] loss=0.39 [test] loss=0.28: 100%|████████████████████████████████████████████| 350/350 [00:19<00:00, 18.41it/s]\n"
     ]
    },
    {
     "name": "stdout",
     "output_type": "stream",
     "text": [
      "Dataset 86/200\n"
     ]
    },
    {
     "name": "stderr",
     "output_type": "stream",
     "text": [
      "[train] loss=0.50 [test] loss=0.44: 100%|████████████████████████████████████████████| 350/350 [00:18<00:00, 18.49it/s]\n"
     ]
    },
    {
     "name": "stdout",
     "output_type": "stream",
     "text": [
      "Dataset 87/200\n"
     ]
    },
    {
     "name": "stderr",
     "output_type": "stream",
     "text": [
      "[train] loss=0.57 [test] loss=0.50: 100%|████████████████████████████████████████████| 350/350 [00:18<00:00, 18.48it/s]\n"
     ]
    },
    {
     "name": "stdout",
     "output_type": "stream",
     "text": [
      "Dataset 88/200\n"
     ]
    },
    {
     "name": "stderr",
     "output_type": "stream",
     "text": [
      "[train] loss=0.71 [test] loss=0.68: 100%|████████████████████████████████████████████| 350/350 [00:18<00:00, 18.52it/s]\n"
     ]
    },
    {
     "name": "stdout",
     "output_type": "stream",
     "text": [
      "Dataset 89/200\n"
     ]
    },
    {
     "name": "stderr",
     "output_type": "stream",
     "text": [
      "[train] loss=0.67 [test] loss=0.64: 100%|████████████████████████████████████████████| 350/350 [00:18<00:00, 18.56it/s]\n"
     ]
    },
    {
     "name": "stdout",
     "output_type": "stream",
     "text": [
      "Dataset 90/200\n"
     ]
    },
    {
     "name": "stderr",
     "output_type": "stream",
     "text": [
      "[train] loss=0.62 [test] loss=0.56: 100%|████████████████████████████████████████████| 350/350 [00:19<00:00, 18.42it/s]\n"
     ]
    },
    {
     "name": "stdout",
     "output_type": "stream",
     "text": [
      "Dataset 91/200\n"
     ]
    },
    {
     "name": "stderr",
     "output_type": "stream",
     "text": [
      "[train] loss=0.43 [test] loss=0.37: 100%|████████████████████████████████████████████| 350/350 [00:19<00:00, 18.41it/s]\n"
     ]
    },
    {
     "name": "stdout",
     "output_type": "stream",
     "text": [
      "Dataset 92/200\n"
     ]
    },
    {
     "name": "stderr",
     "output_type": "stream",
     "text": [
      "[train] loss=0.58 [test] loss=0.53: 100%|████████████████████████████████████████████| 350/350 [00:18<00:00, 18.53it/s]\n"
     ]
    },
    {
     "name": "stdout",
     "output_type": "stream",
     "text": [
      "Dataset 93/200\n"
     ]
    },
    {
     "name": "stderr",
     "output_type": "stream",
     "text": [
      "[train] loss=0.26 [test] loss=0.21: 100%|████████████████████████████████████████████| 350/350 [00:19<00:00, 18.40it/s]\n"
     ]
    },
    {
     "name": "stdout",
     "output_type": "stream",
     "text": [
      "Dataset 94/200\n"
     ]
    },
    {
     "name": "stderr",
     "output_type": "stream",
     "text": [
      "[train] loss=0.40 [test] loss=0.37: 100%|████████████████████████████████████████████| 350/350 [00:18<00:00, 18.51it/s]\n"
     ]
    },
    {
     "name": "stdout",
     "output_type": "stream",
     "text": [
      "Dataset 95/200\n"
     ]
    },
    {
     "name": "stderr",
     "output_type": "stream",
     "text": [
      "[train] loss=0.74 [test] loss=0.70: 100%|████████████████████████████████████████████| 350/350 [00:18<00:00, 18.52it/s]\n"
     ]
    },
    {
     "name": "stdout",
     "output_type": "stream",
     "text": [
      "Dataset 96/200\n"
     ]
    },
    {
     "name": "stderr",
     "output_type": "stream",
     "text": [
      "[train] loss=0.34 [test] loss=0.29: 100%|████████████████████████████████████████████| 350/350 [00:19<00:00, 18.40it/s]\n"
     ]
    },
    {
     "name": "stdout",
     "output_type": "stream",
     "text": [
      "Dataset 97/200\n"
     ]
    },
    {
     "name": "stderr",
     "output_type": "stream",
     "text": [
      "[train] loss=0.58 [test] loss=0.51: 100%|████████████████████████████████████████████| 350/350 [00:18<00:00, 18.47it/s]\n"
     ]
    },
    {
     "name": "stdout",
     "output_type": "stream",
     "text": [
      "Dataset 98/200\n"
     ]
    },
    {
     "name": "stderr",
     "output_type": "stream",
     "text": [
      "[train] loss=0.37 [test] loss=0.31: 100%|████████████████████████████████████████████| 350/350 [00:18<00:00, 18.56it/s]\n"
     ]
    },
    {
     "name": "stdout",
     "output_type": "stream",
     "text": [
      "Dataset 99/200\n"
     ]
    },
    {
     "name": "stderr",
     "output_type": "stream",
     "text": [
      "[train] loss=0.46 [test] loss=0.40: 100%|████████████████████████████████████████████| 350/350 [00:18<00:00, 18.51it/s]\n"
     ]
    },
    {
     "name": "stdout",
     "output_type": "stream",
     "text": [
      "Dataset 100/200\n"
     ]
    },
    {
     "name": "stderr",
     "output_type": "stream",
     "text": [
      "[train] loss=0.35 [test] loss=0.30: 100%|████████████████████████████████████████████| 350/350 [00:18<00:00, 18.52it/s]\n"
     ]
    },
    {
     "name": "stdout",
     "output_type": "stream",
     "text": [
      "Dataset 101/200\n"
     ]
    },
    {
     "name": "stderr",
     "output_type": "stream",
     "text": [
      "[train] loss=0.47 [test] loss=0.38: 100%|████████████████████████████████████████████| 350/350 [00:18<00:00, 18.52it/s]\n"
     ]
    },
    {
     "name": "stdout",
     "output_type": "stream",
     "text": [
      "Dataset 102/200\n"
     ]
    },
    {
     "name": "stderr",
     "output_type": "stream",
     "text": [
      "[train] loss=0.41 [test] loss=0.38: 100%|████████████████████████████████████████████| 350/350 [00:19<00:00, 18.40it/s]\n"
     ]
    },
    {
     "name": "stdout",
     "output_type": "stream",
     "text": [
      "Dataset 103/200\n"
     ]
    },
    {
     "name": "stderr",
     "output_type": "stream",
     "text": [
      "[train] loss=0.65 [test] loss=0.63: 100%|████████████████████████████████████████████| 350/350 [00:18<00:00, 18.48it/s]\n"
     ]
    },
    {
     "name": "stdout",
     "output_type": "stream",
     "text": [
      "Dataset 104/200\n"
     ]
    },
    {
     "name": "stderr",
     "output_type": "stream",
     "text": [
      "[train] loss=0.37 [test] loss=0.32: 100%|████████████████████████████████████████████| 350/350 [00:18<00:00, 18.47it/s]\n"
     ]
    },
    {
     "name": "stdout",
     "output_type": "stream",
     "text": [
      "Dataset 105/200\n"
     ]
    },
    {
     "name": "stderr",
     "output_type": "stream",
     "text": [
      "[train] loss=0.40 [test] loss=0.36: 100%|████████████████████████████████████████████| 350/350 [00:18<00:00, 18.43it/s]\n"
     ]
    },
    {
     "name": "stdout",
     "output_type": "stream",
     "text": [
      "Dataset 106/200\n"
     ]
    },
    {
     "name": "stderr",
     "output_type": "stream",
     "text": [
      "[train] loss=0.28 [test] loss=0.23: 100%|████████████████████████████████████████████| 350/350 [00:18<00:00, 18.50it/s]\n"
     ]
    },
    {
     "name": "stdout",
     "output_type": "stream",
     "text": [
      "Dataset 107/200\n"
     ]
    },
    {
     "name": "stderr",
     "output_type": "stream",
     "text": [
      "[train] loss=0.45 [test] loss=0.40: 100%|████████████████████████████████████████████| 350/350 [00:18<00:00, 18.51it/s]\n"
     ]
    },
    {
     "name": "stdout",
     "output_type": "stream",
     "text": [
      "Dataset 108/200\n"
     ]
    },
    {
     "name": "stderr",
     "output_type": "stream",
     "text": [
      "[train] loss=0.31 [test] loss=0.25: 100%|████████████████████████████████████████████| 350/350 [00:19<00:00, 18.38it/s]\n"
     ]
    },
    {
     "name": "stdout",
     "output_type": "stream",
     "text": [
      "Dataset 109/200\n"
     ]
    },
    {
     "name": "stderr",
     "output_type": "stream",
     "text": [
      "[train] loss=0.63 [test] loss=0.58: 100%|████████████████████████████████████████████| 350/350 [00:18<00:00, 18.46it/s]\n"
     ]
    },
    {
     "name": "stdout",
     "output_type": "stream",
     "text": [
      "Dataset 110/200\n"
     ]
    },
    {
     "name": "stderr",
     "output_type": "stream",
     "text": [
      "[train] loss=0.46 [test] loss=0.44: 100%|████████████████████████████████████████████| 350/350 [00:18<00:00, 18.45it/s]\n"
     ]
    },
    {
     "name": "stdout",
     "output_type": "stream",
     "text": [
      "Dataset 111/200\n"
     ]
    },
    {
     "name": "stderr",
     "output_type": "stream",
     "text": [
      "[train] loss=0.36 [test] loss=0.31: 100%|████████████████████████████████████████████| 350/350 [00:18<00:00, 18.42it/s]\n"
     ]
    },
    {
     "name": "stdout",
     "output_type": "stream",
     "text": [
      "Dataset 112/200\n"
     ]
    },
    {
     "name": "stderr",
     "output_type": "stream",
     "text": [
      "[train] loss=0.49 [test] loss=0.41: 100%|████████████████████████████████████████████| 350/350 [00:18<00:00, 18.49it/s]\n"
     ]
    },
    {
     "name": "stdout",
     "output_type": "stream",
     "text": [
      "Dataset 113/200\n"
     ]
    },
    {
     "name": "stderr",
     "output_type": "stream",
     "text": [
      "[train] loss=0.74 [test] loss=0.73: 100%|████████████████████████████████████████████| 350/350 [00:18<00:00, 18.54it/s]\n"
     ]
    },
    {
     "name": "stdout",
     "output_type": "stream",
     "text": [
      "Dataset 114/200\n"
     ]
    },
    {
     "name": "stderr",
     "output_type": "stream",
     "text": [
      "[train] loss=0.40 [test] loss=0.33: 100%|████████████████████████████████████████████| 350/350 [00:18<00:00, 18.54it/s]\n"
     ]
    },
    {
     "name": "stdout",
     "output_type": "stream",
     "text": [
      "Dataset 115/200\n"
     ]
    },
    {
     "name": "stderr",
     "output_type": "stream",
     "text": [
      "[train] loss=0.32 [test] loss=0.29: 100%|████████████████████████████████████████████| 350/350 [00:19<00:00, 18.40it/s]\n"
     ]
    },
    {
     "name": "stdout",
     "output_type": "stream",
     "text": [
      "Dataset 116/200\n"
     ]
    },
    {
     "name": "stderr",
     "output_type": "stream",
     "text": [
      "[train] loss=0.48 [test] loss=0.47: 100%|████████████████████████████████████████████| 350/350 [00:19<00:00, 18.34it/s]\n"
     ]
    },
    {
     "name": "stdout",
     "output_type": "stream",
     "text": [
      "Dataset 117/200\n"
     ]
    },
    {
     "name": "stderr",
     "output_type": "stream",
     "text": [
      "[train] loss=0.47 [test] loss=0.39: 100%|████████████████████████████████████████████| 350/350 [00:19<00:00, 18.41it/s]\n"
     ]
    },
    {
     "name": "stdout",
     "output_type": "stream",
     "text": [
      "Dataset 118/200\n"
     ]
    },
    {
     "name": "stderr",
     "output_type": "stream",
     "text": [
      "[train] loss=0.49 [test] loss=0.47: 100%|████████████████████████████████████████████| 350/350 [00:19<00:00, 18.40it/s]\n"
     ]
    },
    {
     "name": "stdout",
     "output_type": "stream",
     "text": [
      "Dataset 119/200\n"
     ]
    },
    {
     "name": "stderr",
     "output_type": "stream",
     "text": [
      "[train] loss=0.60 [test] loss=0.56: 100%|████████████████████████████████████████████| 350/350 [00:18<00:00, 18.47it/s]\n"
     ]
    },
    {
     "name": "stdout",
     "output_type": "stream",
     "text": [
      "Dataset 120/200\n"
     ]
    },
    {
     "name": "stderr",
     "output_type": "stream",
     "text": [
      "[train] loss=0.59 [test] loss=0.55: 100%|████████████████████████████████████████████| 350/350 [00:19<00:00, 18.33it/s]\n"
     ]
    },
    {
     "name": "stdout",
     "output_type": "stream",
     "text": [
      "Dataset 121/200\n"
     ]
    },
    {
     "name": "stderr",
     "output_type": "stream",
     "text": [
      "[train] loss=0.34 [test] loss=0.31: 100%|████████████████████████████████████████████| 350/350 [00:19<00:00, 18.42it/s]\n"
     ]
    },
    {
     "name": "stdout",
     "output_type": "stream",
     "text": [
      "Dataset 122/200\n"
     ]
    },
    {
     "name": "stderr",
     "output_type": "stream",
     "text": [
      "[train] loss=0.38 [test] loss=0.28: 100%|████████████████████████████████████████████| 350/350 [00:19<00:00, 18.30it/s]\n"
     ]
    },
    {
     "name": "stdout",
     "output_type": "stream",
     "text": [
      "Dataset 123/200\n"
     ]
    },
    {
     "name": "stderr",
     "output_type": "stream",
     "text": [
      "[train] loss=0.54 [test] loss=0.49: 100%|████████████████████████████████████████████| 350/350 [00:18<00:00, 18.44it/s]\n"
     ]
    },
    {
     "name": "stdout",
     "output_type": "stream",
     "text": [
      "Dataset 124/200\n"
     ]
    },
    {
     "name": "stderr",
     "output_type": "stream",
     "text": [
      "[train] loss=0.41 [test] loss=0.36: 100%|████████████████████████████████████████████| 350/350 [00:18<00:00, 18.44it/s]\n"
     ]
    },
    {
     "name": "stdout",
     "output_type": "stream",
     "text": [
      "Dataset 125/200\n"
     ]
    },
    {
     "name": "stderr",
     "output_type": "stream",
     "text": [
      "[train] loss=0.36 [test] loss=0.32: 100%|████████████████████████████████████████████| 350/350 [00:18<00:00, 18.50it/s]\n"
     ]
    },
    {
     "name": "stdout",
     "output_type": "stream",
     "text": [
      "Dataset 126/200\n"
     ]
    },
    {
     "name": "stderr",
     "output_type": "stream",
     "text": [
      "[train] loss=0.31 [test] loss=0.28: 100%|████████████████████████████████████████████| 350/350 [00:19<00:00, 18.38it/s]\n"
     ]
    },
    {
     "name": "stdout",
     "output_type": "stream",
     "text": [
      "Dataset 127/200\n"
     ]
    },
    {
     "name": "stderr",
     "output_type": "stream",
     "text": [
      "[train] loss=0.42 [test] loss=0.40: 100%|████████████████████████████████████████████| 350/350 [00:19<00:00, 18.41it/s]\n"
     ]
    },
    {
     "name": "stdout",
     "output_type": "stream",
     "text": [
      "Dataset 128/200\n"
     ]
    },
    {
     "name": "stderr",
     "output_type": "stream",
     "text": [
      "[train] loss=0.36 [test] loss=0.28: 100%|████████████████████████████████████████████| 350/350 [00:18<00:00, 18.53it/s]\n"
     ]
    },
    {
     "name": "stdout",
     "output_type": "stream",
     "text": [
      "Dataset 129/200\n"
     ]
    },
    {
     "name": "stderr",
     "output_type": "stream",
     "text": [
      "[train] loss=0.42 [test] loss=0.33: 100%|████████████████████████████████████████████| 350/350 [00:19<00:00, 18.42it/s]\n"
     ]
    },
    {
     "name": "stdout",
     "output_type": "stream",
     "text": [
      "Dataset 130/200\n"
     ]
    },
    {
     "name": "stderr",
     "output_type": "stream",
     "text": [
      "[train] loss=0.43 [test] loss=0.36: 100%|████████████████████████████████████████████| 350/350 [00:18<00:00, 18.51it/s]\n"
     ]
    },
    {
     "name": "stdout",
     "output_type": "stream",
     "text": [
      "Dataset 131/200\n"
     ]
    },
    {
     "name": "stderr",
     "output_type": "stream",
     "text": [
      "[train] loss=0.36 [test] loss=0.27: 100%|████████████████████████████████████████████| 350/350 [00:18<00:00, 18.49it/s]\n"
     ]
    },
    {
     "name": "stdout",
     "output_type": "stream",
     "text": [
      "Dataset 132/200\n"
     ]
    },
    {
     "name": "stderr",
     "output_type": "stream",
     "text": [
      "[train] loss=0.50 [test] loss=0.45: 100%|████████████████████████████████████████████| 350/350 [00:18<00:00, 18.44it/s]\n"
     ]
    },
    {
     "name": "stdout",
     "output_type": "stream",
     "text": [
      "Dataset 133/200\n"
     ]
    },
    {
     "name": "stderr",
     "output_type": "stream",
     "text": [
      "[train] loss=0.26 [test] loss=0.25: 100%|████████████████████████████████████████████| 350/350 [00:18<00:00, 18.59it/s]\n"
     ]
    },
    {
     "name": "stdout",
     "output_type": "stream",
     "text": [
      "Dataset 134/200\n"
     ]
    },
    {
     "name": "stderr",
     "output_type": "stream",
     "text": [
      "[train] loss=0.47 [test] loss=0.42: 100%|████████████████████████████████████████████| 350/350 [00:19<00:00, 18.41it/s]\n"
     ]
    },
    {
     "name": "stdout",
     "output_type": "stream",
     "text": [
      "Dataset 135/200\n"
     ]
    },
    {
     "name": "stderr",
     "output_type": "stream",
     "text": [
      "[train] loss=0.49 [test] loss=0.40: 100%|████████████████████████████████████████████| 350/350 [00:18<00:00, 18.48it/s]\n"
     ]
    },
    {
     "name": "stdout",
     "output_type": "stream",
     "text": [
      "Dataset 136/200\n"
     ]
    },
    {
     "name": "stderr",
     "output_type": "stream",
     "text": [
      "[train] loss=0.71 [test] loss=0.68: 100%|████████████████████████████████████████████| 350/350 [00:18<00:00, 18.45it/s]\n"
     ]
    },
    {
     "name": "stdout",
     "output_type": "stream",
     "text": [
      "Dataset 137/200\n"
     ]
    },
    {
     "name": "stderr",
     "output_type": "stream",
     "text": [
      "[train] loss=0.48 [test] loss=0.42: 100%|████████████████████████████████████████████| 350/350 [00:19<00:00, 18.35it/s]\n"
     ]
    },
    {
     "name": "stdout",
     "output_type": "stream",
     "text": [
      "Dataset 138/200\n"
     ]
    },
    {
     "name": "stderr",
     "output_type": "stream",
     "text": [
      "[train] loss=0.42 [test] loss=0.34: 100%|████████████████████████████████████████████| 350/350 [00:18<00:00, 18.43it/s]\n"
     ]
    },
    {
     "name": "stdout",
     "output_type": "stream",
     "text": [
      "Dataset 139/200\n"
     ]
    },
    {
     "name": "stderr",
     "output_type": "stream",
     "text": [
      "[train] loss=0.34 [test] loss=0.25: 100%|████████████████████████████████████████████| 350/350 [00:18<00:00, 18.49it/s]\n"
     ]
    },
    {
     "name": "stdout",
     "output_type": "stream",
     "text": [
      "Dataset 140/200\n"
     ]
    },
    {
     "name": "stderr",
     "output_type": "stream",
     "text": [
      "[train] loss=0.68 [test] loss=0.62: 100%|████████████████████████████████████████████| 350/350 [00:19<00:00, 18.39it/s]\n"
     ]
    },
    {
     "name": "stdout",
     "output_type": "stream",
     "text": [
      "Dataset 141/200\n"
     ]
    },
    {
     "name": "stderr",
     "output_type": "stream",
     "text": [
      "[train] loss=0.33 [test] loss=0.28: 100%|████████████████████████████████████████████| 350/350 [00:18<00:00, 18.57it/s]\n"
     ]
    },
    {
     "name": "stdout",
     "output_type": "stream",
     "text": [
      "Dataset 142/200\n"
     ]
    },
    {
     "name": "stderr",
     "output_type": "stream",
     "text": [
      "[train] loss=0.46 [test] loss=0.40: 100%|████████████████████████████████████████████| 350/350 [00:18<00:00, 18.53it/s]\n"
     ]
    },
    {
     "name": "stdout",
     "output_type": "stream",
     "text": [
      "Dataset 143/200\n"
     ]
    },
    {
     "name": "stderr",
     "output_type": "stream",
     "text": [
      "[train] loss=0.64 [test] loss=0.64: 100%|████████████████████████████████████████████| 350/350 [00:18<00:00, 18.51it/s]\n"
     ]
    },
    {
     "name": "stdout",
     "output_type": "stream",
     "text": [
      "Dataset 144/200\n"
     ]
    },
    {
     "name": "stderr",
     "output_type": "stream",
     "text": [
      "[train] loss=0.65 [test] loss=0.62: 100%|████████████████████████████████████████████| 350/350 [00:18<00:00, 18.43it/s]\n"
     ]
    },
    {
     "name": "stdout",
     "output_type": "stream",
     "text": [
      "Dataset 145/200\n"
     ]
    },
    {
     "name": "stderr",
     "output_type": "stream",
     "text": [
      "[train] loss=0.36 [test] loss=0.37: 100%|████████████████████████████████████████████| 350/350 [00:19<00:00, 18.41it/s]\n"
     ]
    },
    {
     "name": "stdout",
     "output_type": "stream",
     "text": [
      "Dataset 146/200\n"
     ]
    },
    {
     "name": "stderr",
     "output_type": "stream",
     "text": [
      "[train] loss=0.36 [test] loss=0.29: 100%|████████████████████████████████████████████| 350/350 [00:19<00:00, 18.39it/s]\n"
     ]
    },
    {
     "name": "stdout",
     "output_type": "stream",
     "text": [
      "Dataset 147/200\n"
     ]
    },
    {
     "name": "stderr",
     "output_type": "stream",
     "text": [
      "[train] loss=0.42 [test] loss=0.34: 100%|████████████████████████████████████████████| 350/350 [00:19<00:00, 18.41it/s]\n"
     ]
    },
    {
     "name": "stdout",
     "output_type": "stream",
     "text": [
      "Dataset 148/200\n"
     ]
    },
    {
     "name": "stderr",
     "output_type": "stream",
     "text": [
      "[train] loss=0.29 [test] loss=0.21: 100%|████████████████████████████████████████████| 350/350 [00:18<00:00, 18.47it/s]\n"
     ]
    },
    {
     "name": "stdout",
     "output_type": "stream",
     "text": [
      "Dataset 149/200\n"
     ]
    },
    {
     "name": "stderr",
     "output_type": "stream",
     "text": [
      "[train] loss=0.41 [test] loss=0.39: 100%|████████████████████████████████████████████| 350/350 [00:18<00:00, 18.44it/s]\n"
     ]
    },
    {
     "name": "stdout",
     "output_type": "stream",
     "text": [
      "Dataset 150/200\n"
     ]
    },
    {
     "name": "stderr",
     "output_type": "stream",
     "text": [
      "[train] loss=0.45 [test] loss=0.42: 100%|████████████████████████████████████████████| 350/350 [00:19<00:00, 18.31it/s]\n"
     ]
    },
    {
     "name": "stdout",
     "output_type": "stream",
     "text": [
      "Dataset 151/200\n"
     ]
    },
    {
     "name": "stderr",
     "output_type": "stream",
     "text": [
      "[train] loss=0.31 [test] loss=0.24: 100%|████████████████████████████████████████████| 350/350 [00:18<00:00, 18.44it/s]\n"
     ]
    },
    {
     "name": "stdout",
     "output_type": "stream",
     "text": [
      "Dataset 152/200\n"
     ]
    },
    {
     "name": "stderr",
     "output_type": "stream",
     "text": [
      "[train] loss=0.40 [test] loss=0.32: 100%|████████████████████████████████████████████| 350/350 [00:18<00:00, 18.49it/s]\n"
     ]
    },
    {
     "name": "stdout",
     "output_type": "stream",
     "text": [
      "Dataset 153/200\n"
     ]
    },
    {
     "name": "stderr",
     "output_type": "stream",
     "text": [
      "[train] loss=0.49 [test] loss=0.43: 100%|████████████████████████████████████████████| 350/350 [00:19<00:00, 18.38it/s]\n"
     ]
    },
    {
     "name": "stdout",
     "output_type": "stream",
     "text": [
      "Dataset 154/200\n"
     ]
    },
    {
     "name": "stderr",
     "output_type": "stream",
     "text": [
      "[train] loss=0.40 [test] loss=0.32: 100%|████████████████████████████████████████████| 350/350 [00:19<00:00, 18.36it/s]\n"
     ]
    },
    {
     "name": "stdout",
     "output_type": "stream",
     "text": [
      "Dataset 155/200\n"
     ]
    },
    {
     "name": "stderr",
     "output_type": "stream",
     "text": [
      "[train] loss=0.54 [test] loss=0.50: 100%|████████████████████████████████████████████| 350/350 [00:18<00:00, 18.44it/s]\n"
     ]
    },
    {
     "name": "stdout",
     "output_type": "stream",
     "text": [
      "Dataset 156/200\n"
     ]
    },
    {
     "name": "stderr",
     "output_type": "stream",
     "text": [
      "[train] loss=0.35 [test] loss=0.28: 100%|████████████████████████████████████████████| 350/350 [00:18<00:00, 18.49it/s]\n"
     ]
    },
    {
     "name": "stdout",
     "output_type": "stream",
     "text": [
      "Dataset 157/200\n"
     ]
    },
    {
     "name": "stderr",
     "output_type": "stream",
     "text": [
      "[train] loss=0.37 [test] loss=0.33: 100%|████████████████████████████████████████████| 350/350 [00:19<00:00, 18.37it/s]\n"
     ]
    },
    {
     "name": "stdout",
     "output_type": "stream",
     "text": [
      "Dataset 158/200\n"
     ]
    },
    {
     "name": "stderr",
     "output_type": "stream",
     "text": [
      "[train] loss=0.62 [test] loss=0.63: 100%|████████████████████████████████████████████| 350/350 [00:18<00:00, 18.46it/s]\n"
     ]
    },
    {
     "name": "stdout",
     "output_type": "stream",
     "text": [
      "Dataset 159/200\n"
     ]
    },
    {
     "name": "stderr",
     "output_type": "stream",
     "text": [
      "[train] loss=0.41 [test] loss=0.31: 100%|████████████████████████████████████████████| 350/350 [00:19<00:00, 18.41it/s]\n"
     ]
    },
    {
     "name": "stdout",
     "output_type": "stream",
     "text": [
      "Dataset 160/200\n"
     ]
    },
    {
     "name": "stderr",
     "output_type": "stream",
     "text": [
      "[train] loss=0.47 [test] loss=0.44: 100%|████████████████████████████████████████████| 350/350 [00:18<00:00, 18.46it/s]\n"
     ]
    },
    {
     "name": "stdout",
     "output_type": "stream",
     "text": [
      "Dataset 161/200\n"
     ]
    },
    {
     "name": "stderr",
     "output_type": "stream",
     "text": [
      "[train] loss=0.34 [test] loss=0.29: 100%|████████████████████████████████████████████| 350/350 [00:18<00:00, 18.47it/s]\n"
     ]
    },
    {
     "name": "stdout",
     "output_type": "stream",
     "text": [
      "Dataset 162/200\n"
     ]
    },
    {
     "name": "stderr",
     "output_type": "stream",
     "text": [
      "[train] loss=0.37 [test] loss=0.35: 100%|████████████████████████████████████████████| 350/350 [00:18<00:00, 18.47it/s]\n"
     ]
    },
    {
     "name": "stdout",
     "output_type": "stream",
     "text": [
      "Dataset 163/200\n"
     ]
    },
    {
     "name": "stderr",
     "output_type": "stream",
     "text": [
      "[train] loss=0.62 [test] loss=0.55: 100%|████████████████████████████████████████████| 350/350 [00:19<00:00, 18.34it/s]\n"
     ]
    },
    {
     "name": "stdout",
     "output_type": "stream",
     "text": [
      "Dataset 164/200\n"
     ]
    },
    {
     "name": "stderr",
     "output_type": "stream",
     "text": [
      "[train] loss=0.30 [test] loss=0.23: 100%|████████████████████████████████████████████| 350/350 [00:19<00:00, 18.40it/s]\n"
     ]
    },
    {
     "name": "stdout",
     "output_type": "stream",
     "text": [
      "Dataset 165/200\n"
     ]
    },
    {
     "name": "stderr",
     "output_type": "stream",
     "text": [
      "[train] loss=0.50 [test] loss=0.44: 100%|████████████████████████████████████████████| 350/350 [00:19<00:00, 18.39it/s]\n"
     ]
    },
    {
     "name": "stdout",
     "output_type": "stream",
     "text": [
      "Dataset 166/200\n"
     ]
    },
    {
     "name": "stderr",
     "output_type": "stream",
     "text": [
      "[train] loss=0.50 [test] loss=0.46: 100%|████████████████████████████████████████████| 350/350 [00:18<00:00, 18.44it/s]\n"
     ]
    },
    {
     "name": "stdout",
     "output_type": "stream",
     "text": [
      "Dataset 167/200\n"
     ]
    },
    {
     "name": "stderr",
     "output_type": "stream",
     "text": [
      "[train] loss=0.59 [test] loss=0.55: 100%|████████████████████████████████████████████| 350/350 [00:19<00:00, 18.41it/s]\n"
     ]
    },
    {
     "name": "stdout",
     "output_type": "stream",
     "text": [
      "Dataset 168/200\n"
     ]
    },
    {
     "name": "stderr",
     "output_type": "stream",
     "text": [
      "[train] loss=0.42 [test] loss=0.37: 100%|████████████████████████████████████████████| 350/350 [00:18<00:00, 18.42it/s]\n"
     ]
    },
    {
     "name": "stdout",
     "output_type": "stream",
     "text": [
      "Dataset 169/200\n"
     ]
    },
    {
     "name": "stderr",
     "output_type": "stream",
     "text": [
      "[train] loss=0.42 [test] loss=0.34: 100%|████████████████████████████████████████████| 350/350 [00:19<00:00, 18.22it/s]\n"
     ]
    },
    {
     "name": "stdout",
     "output_type": "stream",
     "text": [
      "Dataset 170/200\n"
     ]
    },
    {
     "name": "stderr",
     "output_type": "stream",
     "text": [
      "[train] loss=0.43 [test] loss=0.37: 100%|████████████████████████████████████████████| 350/350 [00:19<00:00, 18.26it/s]\n"
     ]
    },
    {
     "name": "stdout",
     "output_type": "stream",
     "text": [
      "Dataset 171/200\n"
     ]
    },
    {
     "name": "stderr",
     "output_type": "stream",
     "text": [
      "[train] loss=0.31 [test] loss=0.28: 100%|████████████████████████████████████████████| 350/350 [00:19<00:00, 18.29it/s]\n"
     ]
    },
    {
     "name": "stdout",
     "output_type": "stream",
     "text": [
      "Dataset 172/200\n"
     ]
    },
    {
     "name": "stderr",
     "output_type": "stream",
     "text": [
      "[train] loss=0.36 [test] loss=0.29: 100%|████████████████████████████████████████████| 350/350 [00:19<00:00, 18.42it/s]\n"
     ]
    },
    {
     "name": "stdout",
     "output_type": "stream",
     "text": [
      "Dataset 173/200\n"
     ]
    },
    {
     "name": "stderr",
     "output_type": "stream",
     "text": [
      "[train] loss=0.53 [test] loss=0.48: 100%|████████████████████████████████████████████| 350/350 [00:19<00:00, 18.40it/s]\n"
     ]
    },
    {
     "name": "stdout",
     "output_type": "stream",
     "text": [
      "Dataset 174/200\n"
     ]
    },
    {
     "name": "stderr",
     "output_type": "stream",
     "text": [
      "[train] loss=0.39 [test] loss=0.31: 100%|████████████████████████████████████████████| 350/350 [00:19<00:00, 18.36it/s]\n"
     ]
    },
    {
     "name": "stdout",
     "output_type": "stream",
     "text": [
      "Dataset 175/200\n"
     ]
    },
    {
     "name": "stderr",
     "output_type": "stream",
     "text": [
      "[train] loss=0.63 [test] loss=0.62: 100%|████████████████████████████████████████████| 350/350 [00:18<00:00, 18.43it/s]\n"
     ]
    },
    {
     "name": "stdout",
     "output_type": "stream",
     "text": [
      "Dataset 176/200\n"
     ]
    },
    {
     "name": "stderr",
     "output_type": "stream",
     "text": [
      "[train] loss=0.38 [test] loss=0.38: 100%|████████████████████████████████████████████| 350/350 [00:19<00:00, 18.40it/s]\n"
     ]
    },
    {
     "name": "stdout",
     "output_type": "stream",
     "text": [
      "Dataset 177/200\n"
     ]
    },
    {
     "name": "stderr",
     "output_type": "stream",
     "text": [
      "[train] loss=0.59 [test] loss=0.57: 100%|████████████████████████████████████████████| 350/350 [00:19<00:00, 18.31it/s]\n"
     ]
    },
    {
     "name": "stdout",
     "output_type": "stream",
     "text": [
      "Dataset 178/200\n"
     ]
    },
    {
     "name": "stderr",
     "output_type": "stream",
     "text": [
      "[train] loss=0.36 [test] loss=0.31: 100%|████████████████████████████████████████████| 350/350 [00:19<00:00, 18.35it/s]\n"
     ]
    },
    {
     "name": "stdout",
     "output_type": "stream",
     "text": [
      "Dataset 179/200\n"
     ]
    },
    {
     "name": "stderr",
     "output_type": "stream",
     "text": [
      "[train] loss=0.44 [test] loss=0.41: 100%|████████████████████████████████████████████| 350/350 [00:19<00:00, 18.30it/s]\n"
     ]
    },
    {
     "name": "stdout",
     "output_type": "stream",
     "text": [
      "Dataset 180/200\n"
     ]
    },
    {
     "name": "stderr",
     "output_type": "stream",
     "text": [
      "[train] loss=0.42 [test] loss=0.35: 100%|████████████████████████████████████████████| 350/350 [00:19<00:00, 18.27it/s]\n"
     ]
    },
    {
     "name": "stdout",
     "output_type": "stream",
     "text": [
      "Dataset 181/200\n"
     ]
    },
    {
     "name": "stderr",
     "output_type": "stream",
     "text": [
      "[train] loss=0.32 [test] loss=0.29: 100%|████████████████████████████████████████████| 350/350 [00:18<00:00, 18.45it/s]\n"
     ]
    },
    {
     "name": "stdout",
     "output_type": "stream",
     "text": [
      "Dataset 182/200\n"
     ]
    },
    {
     "name": "stderr",
     "output_type": "stream",
     "text": [
      "[train] loss=0.57 [test] loss=0.52: 100%|████████████████████████████████████████████| 350/350 [00:19<00:00, 18.41it/s]\n"
     ]
    },
    {
     "name": "stdout",
     "output_type": "stream",
     "text": [
      "Dataset 183/200\n"
     ]
    },
    {
     "name": "stderr",
     "output_type": "stream",
     "text": [
      "[train] loss=0.60 [test] loss=0.58: 100%|████████████████████████████████████████████| 350/350 [00:19<00:00, 18.33it/s]\n"
     ]
    },
    {
     "name": "stdout",
     "output_type": "stream",
     "text": [
      "Dataset 184/200\n"
     ]
    },
    {
     "name": "stderr",
     "output_type": "stream",
     "text": [
      "[train] loss=0.64 [test] loss=0.61: 100%|████████████████████████████████████████████| 350/350 [00:18<00:00, 18.45it/s]\n"
     ]
    },
    {
     "name": "stdout",
     "output_type": "stream",
     "text": [
      "Dataset 185/200\n"
     ]
    },
    {
     "name": "stderr",
     "output_type": "stream",
     "text": [
      "[train] loss=0.59 [test] loss=0.54: 100%|████████████████████████████████████████████| 350/350 [00:19<00:00, 18.39it/s]\n"
     ]
    },
    {
     "name": "stdout",
     "output_type": "stream",
     "text": [
      "Dataset 186/200\n"
     ]
    },
    {
     "name": "stderr",
     "output_type": "stream",
     "text": [
      "[train] loss=0.33 [test] loss=0.26: 100%|████████████████████████████████████████████| 350/350 [00:18<00:00, 18.44it/s]\n"
     ]
    },
    {
     "name": "stdout",
     "output_type": "stream",
     "text": [
      "Dataset 187/200\n"
     ]
    },
    {
     "name": "stderr",
     "output_type": "stream",
     "text": [
      "[train] loss=0.58 [test] loss=0.53: 100%|████████████████████████████████████████████| 350/350 [00:19<00:00, 18.36it/s]\n"
     ]
    },
    {
     "name": "stdout",
     "output_type": "stream",
     "text": [
      "Dataset 188/200\n"
     ]
    },
    {
     "name": "stderr",
     "output_type": "stream",
     "text": [
      "[train] loss=0.39 [test] loss=0.39: 100%|████████████████████████████████████████████| 350/350 [00:19<00:00, 18.42it/s]\n"
     ]
    },
    {
     "name": "stdout",
     "output_type": "stream",
     "text": [
      "Dataset 189/200\n"
     ]
    },
    {
     "name": "stderr",
     "output_type": "stream",
     "text": [
      "[train] loss=0.37 [test] loss=0.35: 100%|████████████████████████████████████████████| 350/350 [00:19<00:00, 18.42it/s]\n"
     ]
    },
    {
     "name": "stdout",
     "output_type": "stream",
     "text": [
      "Dataset 190/200\n"
     ]
    },
    {
     "name": "stderr",
     "output_type": "stream",
     "text": [
      "[train] loss=0.37 [test] loss=0.33: 100%|████████████████████████████████████████████| 350/350 [00:19<00:00, 18.41it/s]\n"
     ]
    },
    {
     "name": "stdout",
     "output_type": "stream",
     "text": [
      "Dataset 191/200\n"
     ]
    },
    {
     "name": "stderr",
     "output_type": "stream",
     "text": [
      "[train] loss=0.50 [test] loss=0.51: 100%|████████████████████████████████████████████| 350/350 [00:18<00:00, 18.42it/s]\n"
     ]
    },
    {
     "name": "stdout",
     "output_type": "stream",
     "text": [
      "Dataset 192/200\n"
     ]
    },
    {
     "name": "stderr",
     "output_type": "stream",
     "text": [
      "[train] loss=0.43 [test] loss=0.37: 100%|████████████████████████████████████████████| 350/350 [00:19<00:00, 18.41it/s]\n"
     ]
    },
    {
     "name": "stdout",
     "output_type": "stream",
     "text": [
      "Dataset 193/200\n"
     ]
    },
    {
     "name": "stderr",
     "output_type": "stream",
     "text": [
      "[train] loss=0.44 [test] loss=0.38: 100%|████████████████████████████████████████████| 350/350 [00:19<00:00, 18.26it/s]\n"
     ]
    },
    {
     "name": "stdout",
     "output_type": "stream",
     "text": [
      "Dataset 194/200\n"
     ]
    },
    {
     "name": "stderr",
     "output_type": "stream",
     "text": [
      "[train] loss=0.36 [test] loss=0.31: 100%|████████████████████████████████████████████| 350/350 [00:19<00:00, 18.35it/s]\n"
     ]
    },
    {
     "name": "stdout",
     "output_type": "stream",
     "text": [
      "Dataset 195/200\n"
     ]
    },
    {
     "name": "stderr",
     "output_type": "stream",
     "text": [
      "[train] loss=0.41 [test] loss=0.42: 100%|████████████████████████████████████████████| 350/350 [00:19<00:00, 18.37it/s]\n"
     ]
    },
    {
     "name": "stdout",
     "output_type": "stream",
     "text": [
      "Dataset 196/200\n"
     ]
    },
    {
     "name": "stderr",
     "output_type": "stream",
     "text": [
      "[train] loss=0.27 [test] loss=0.20: 100%|████████████████████████████████████████████| 350/350 [00:19<00:00, 18.28it/s]\n"
     ]
    },
    {
     "name": "stdout",
     "output_type": "stream",
     "text": [
      "Dataset 197/200\n"
     ]
    },
    {
     "name": "stderr",
     "output_type": "stream",
     "text": [
      "[train] loss=0.36 [test] loss=0.31: 100%|████████████████████████████████████████████| 350/350 [00:19<00:00, 18.40it/s]\n"
     ]
    },
    {
     "name": "stdout",
     "output_type": "stream",
     "text": [
      "Dataset 198/200\n"
     ]
    },
    {
     "name": "stderr",
     "output_type": "stream",
     "text": [
      "[train] loss=0.51 [test] loss=0.48: 100%|████████████████████████████████████████████| 350/350 [00:19<00:00, 18.42it/s]\n"
     ]
    },
    {
     "name": "stdout",
     "output_type": "stream",
     "text": [
      "Dataset 199/200\n"
     ]
    },
    {
     "name": "stderr",
     "output_type": "stream",
     "text": [
      "[train] loss=0.44 [test] loss=0.42: 100%|████████████████████████████████████████████| 350/350 [00:19<00:00, 18.41it/s]\n"
     ]
    },
    {
     "name": "stdout",
     "output_type": "stream",
     "text": [
      "Dataset 200/200\n"
     ]
    },
    {
     "name": "stderr",
     "output_type": "stream",
     "text": [
      "[train] loss=0.51 [test] loss=0.47: 100%|████████████████████████████████████████████| 350/350 [00:19<00:00, 18.39it/s]\n"
     ]
    },
    {
     "name": "stdout",
     "output_type": "stream",
     "text": [
      "dict_keys(['train_artifacts', 'test_artifacts', 'model_params', 'train_data', 'test_data', 'train_metrics', 'test_metrics'])\n"
     ]
    },
    {
     "data": {
      "image/png": "[encoded data removed]",
      "text/plain": [
       "<Figure size 640x480 with 1 Axes>"
      ]
     },
     "metadata": {},
     "output_type": "display_data"
    },
    {
     "data": {
      "image/png": "[encoded data removed]",
      "text/plain": [
       "<Figure size 1600x300 with 6 Axes>"
      ]
     },
     "metadata": {},
     "output_type": "display_data"
    },
    {
     "data": {
      "image/png": "[encoded data removed]",
      "text/plain": [
       "<Figure size 1600x300 with 6 Axes>"
      ]
     },
     "metadata": {},
     "output_type": "display_data"
    }
   ],
   "source": [
    "params = {\n",
    "    'model_type': TAMCaD_UA, \n",
    "    'n_ensembles': 20,\n",
    "    'gamma': 0.0,\n",
    "    'lambda1': 0.1,\n",
    "    'hidden_dim': 24, \n",
    "    'weight_sharing': True, \n",
    "    'epochs': 350,\n",
    "    'dropout': 0.2,\n",
    "    'experiment_name': 'causeme',\n",
    "    'lr': 1e-3,\n",
    "    'weight_decay': 1e-8,\n",
    "    'test_size': 0.3,\n",
    "    'kernel_size': 2,\n",
    "    'n_blocks': 2,\n",
    "    'n_layers': 2,\n",
    "    'use_positional_embedding': False\n",
    "}\n",
    "\n",
    "all_datasets = 1 if test else dataset['data'].size(0)\n",
    "\n",
    "all_results = []\n",
    "for i in range(all_datasets):\n",
    "    print(f'Dataset {i+1}/{all_datasets}')\n",
    "    all_results.append(train_model(\n",
    "        experiment_run=name,\n",
    "        dataset={'name': dataset['name'], 'data':dataset['data'][i:i+1]},\n",
    "        **params))\n",
    "print(all_results[0].keys())\n",
    "\n",
    "plt.plot(*all_results[0]['train_metrics']['loss'], label='train')\n",
    "plt.plot(*all_results[0]['test_metrics']['loss'], label='test')\n",
    "plt.legend()\n",
    "plt.show()\n",
    "\n",
    "if test:\n",
    "    plot_causal_matrix(all_test_results)\n",
    "plot_causal_matrix(all_results, plot_ep=True)"
   ]
  },
  {
   "cell_type": "code",
   "execution_count": 8,
   "id": "0b05dc6e-197c-4057-bc12-71122ccf6594",
   "metadata": {},
   "outputs": [
    {
     "name": "stdout",
     "output_type": "stream",
     "text": [
      "torch.Size([200, 10, 10])\n"
     ]
    }
   ],
   "source": [
    "if not test:\n",
    "    scores = torch.stack([r['test_artifacts']['matrix'] for r in all_results]).transpose(-1, -2)\n",
    "    print(scores.shape)\n",
    "    write_causeme_predictions('TAMCaD_UA', name, scores, type='UA', hidden_dim=params['hidden_dim'])"
   ]
  },
  {
   "cell_type": "code",
   "execution_count": null,
   "id": "e280c548-65a6-4b85-9950-4084bad28a47",
   "metadata": {},
   "outputs": [],
   "source": []
  }
 ],
 "metadata": {
  "kernelspec": {
   "display_name": "Python 3 (ipykernel)",
   "language": "python",
   "name": "python3"
  },
  "language_info": {
   "codemirror_mode": {
    "name": "ipython",
    "version": 3
   },
   "file_extension": ".py",
   "mimetype": "text/x-python",
   "name": "python",
   "nbconvert_exporter": "python",
   "pygments_lexer": "ipython3",
   "version": "3.9.16"
  }
 },
 "nbformat": 4,
 "nbformat_minor": 5
}
