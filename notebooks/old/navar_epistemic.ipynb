{
 "cells": [
  {
   "cell_type": "markdown",
   "id": "252e5919-0cf2-4684-a744-10911e4bac04",
   "metadata": {},
   "source": [
    "# Improved Data Visualization and Model Training for NAVAR_TCN_EPISTEMIC"
   ]
  },
  {
   "cell_type": "code",
   "execution_count": 1,
   "id": "38ac4327-86f4-4e98-b9a7-28b61ec0ff06",
   "metadata": {},
   "outputs": [
    {
     "name": "stderr",
     "output_type": "stream",
     "text": [
      "C:\\Users\\mauri\\anaconda3\\envs\\causal-discovery\\lib\\site-packages\\tqdm\\auto.py:22: TqdmWarning: IProgress not found. Please update jupyter and ipywidgets. See https://ipywidgets.readthedocs.io/en/stable/user_install.html\n",
      "  from .autonotebook import tqdm as notebook_tqdm\n"
     ]
    },
    {
     "ename": "ModuleNotFoundError",
     "evalue": "No module named 'src.models.navar'",
     "output_type": "error",
     "traceback": [
      "\u001b[1;31m---------------------------------------------------------------------------\u001b[0m",
      "\u001b[1;31mModuleNotFoundError\u001b[0m                       Traceback (most recent call last)",
      "Cell \u001b[1;32mIn[1], line 15\u001b[0m\n\u001b[0;32m     12\u001b[0m \u001b[38;5;28;01mfrom\u001b[39;00m \u001b[38;5;21;01mtqdm\u001b[39;00m \u001b[38;5;28;01mimport\u001b[39;00m trange\n\u001b[0;32m     13\u001b[0m \u001b[38;5;28;01mimport\u001b[39;00m \u001b[38;5;21;01mseaborn\u001b[39;00m \u001b[38;5;28;01mas\u001b[39;00m \u001b[38;5;21;01msns\u001b[39;00m\n\u001b[1;32m---> 15\u001b[0m \u001b[38;5;28;01mfrom\u001b[39;00m \u001b[38;5;21;01msrc\u001b[39;00m\u001b[38;5;21;01m.\u001b[39;00m\u001b[38;5;21;01mmodels\u001b[39;00m\u001b[38;5;21;01m.\u001b[39;00m\u001b[38;5;21;01mnavar\u001b[39;00m\u001b[38;5;21;01m.\u001b[39;00m\u001b[38;5;21;01mnavar_epistemic\u001b[39;00m \u001b[38;5;28;01mimport\u001b[39;00m NAVAR_TCN_E, loss_navar_e\n\u001b[0;32m     16\u001b[0m \u001b[38;5;28;01mfrom\u001b[39;00m \u001b[38;5;21;01mscripts\u001b[39;00m\u001b[38;5;21;01m.\u001b[39;00m\u001b[38;5;21;01mexperiments\u001b[39;00m\u001b[38;5;21;01m.\u001b[39;00m\u001b[38;5;21;01mremember_noise_test_epistemic\u001b[39;00m \u001b[38;5;28;01mimport\u001b[39;00m generate_random_data, train_model, post_training_analysis_navar\n\u001b[0;32m     17\u001b[0m \u001b[38;5;28;01mfrom\u001b[39;00m \u001b[38;5;21;01msrc\u001b[39;00m\u001b[38;5;21;01m.\u001b[39;00m\u001b[38;5;21;01mutils\u001b[39;00m\u001b[38;5;21;01m.\u001b[39;00m\u001b[38;5;21;01mpytorch\u001b[39;00m \u001b[38;5;28;01mimport\u001b[39;00m count_parameters\n",
      "\u001b[1;31mModuleNotFoundError\u001b[0m: No module named 'src.models.navar'"
     ]
    }
   ],
   "source": [
    "import sys\n",
    "\n",
    "# Add the project directory to the sys.path\n",
    "sys.path.append(\"../\")\n",
    "\n",
    "import numpy as np\n",
    "import torch\n",
    "import torch.nn as nn\n",
    "import torch.optim as optim\n",
    "import matplotlib.pyplot as plt\n",
    "import matplotlib.colors as mcolors\n",
    "from tqdm import trange\n",
    "import seaborn as sns\n",
    "\n",
    "from src.models.navar.navar_epistemic import NAVAR_TCN_E, loss_navar_e\n",
    "from scripts.experiments.remember_noise_test_epistemic import generate_random_data, train_model, post_training_analysis_navar\n",
    "from src.utils.pytorch import count_parameters\n",
    "from src.utils.visualisations import smooth_line"
   ]
  },
  {
   "cell_type": "markdown",
   "id": "2a6e3303-d0a1-4e69-b0df-b4b5bd06b1d5",
   "metadata": {},
   "source": [
    "## Data Preparation"
   ]
  },
  {
   "cell_type": "code",
   "execution_count": null,
   "id": "b7f463a9-db61-4786-b0bd-bb3dc7eee715",
   "metadata": {},
   "outputs": [],
   "source": [
    "x_train, y_train, true_function_train = generate_random_data(sequence_length=2500)\n",
    "\n",
    "if torch.cuda.is_available():\n",
    "    x_train, y_train, true_function_train = x_train.cuda(), y_train.cuda(), true_function_train.cuda()\n",
    "\n",
    "plt.plot(x_train[0, 1, :100].cpu())"
   ]
  },
  {
   "cell_type": "markdown",
   "id": "e1c0af53-aa59-467e-a364-e66c11d9fb87",
   "metadata": {},
   "source": [
    "## Model Training"
   ]
  },
  {
   "cell_type": "code",
   "execution_count": null,
   "id": "dcfbe12e-94f6-4585-963e-3834f5d8487f",
   "metadata": {},
   "outputs": [],
   "source": [
    "model = NAVAR_TCN_E(n_variables=3, hidden_dim=16, kernel_size=2, n_blocks=1, n_layers_per_block=2, dropout=0.0)\n",
    "print(model)\n",
    "\n",
    "if torch.cuda.is_available():\n",
    "    model = model.cuda()\n",
    "\n",
    "print('n_parameters per var:', count_parameters(model) // 3)\n",
    "print('receptive field:', model.receptive_field)\n",
    "\n",
    "model, losses = train_model(model, x_train, y_train, loss_navar_e, epochs=1000, lr=2e-3, coeff_start=-4, coeff_end=-1)"
   ]
  },
  {
   "cell_type": "code",
   "execution_count": null,
   "id": "7a9fe690-00b6-45ce-a89c-d11fb47deb44",
   "metadata": {},
   "outputs": [],
   "source": [
    "plt.plot(losses[100:])"
   ]
  },
  {
   "cell_type": "markdown",
   "id": "3023e9c8-194c-4f70-aee5-56b9f71cb7fa",
   "metadata": {},
   "source": [
    "## Data Visualization"
   ]
  },
  {
   "cell_type": "code",
   "execution_count": null,
   "id": "813edb1f-0611-4e2b-abf5-d1e61729a1e6",
   "metadata": {},
   "outputs": [],
   "source": [
    "def plot_matrix():\n",
    "    result = post_training_analysis_navar(model, x_train, y_train, true_function_train, from_var=0, to_var=0)\n",
    "    sns.set(rc={'figure.figsize':(3,2.5)})\n",
    "    sns.heatmap(result[7])\n",
    "    plt.show()\n",
    "    sns.set(rc={'figure.figsize':(3,2.5)})\n",
    "    sns.heatmap(np.sqrt(1/result[8]**2))\n",
    "    plt.show()\n",
    "plot_matrix()"
   ]
  },
  {
   "cell_type": "code",
   "execution_count": null,
   "id": "f408f2ae-7888-47d2-9652-aaa6cc451dbe",
   "metadata": {},
   "outputs": [],
   "source": []
  },
  {
   "cell_type": "markdown",
   "id": "d2a0d7f5-d0a0-4877-9217-491ed805647a",
   "metadata": {},
   "source": [
    "plot empistemic uncertainty\n"
   ]
  },
  {
   "cell_type": "code",
   "execution_count": null,
   "id": "985c8ce5-c667-4609-b4f7-5d41323edc39",
   "metadata": {},
   "outputs": [],
   "source": [
    "def plot_relationships(from_var, to_var):\n",
    "    x, y, true_function, gamma, v, aleatoric, epistemic, causal_matrix, confidence_matrix, \\\n",
    "    gamma_prime, aleatoric_prime, epistemic_prime = post_training_analysis_navar(model, x_train, y_train, true_function_train, from_var=from_var, to_var=to_var)\n",
    "    \n",
    "    gamma_smooth = smooth_line(gamma, 3.0)\n",
    "    aleatoric_smooth = smooth_line(aleatoric, 3.0)\n",
    "    epistemic_smooth = smooth_line(epistemic, 3.0)\n",
    "    \n",
    "    fig, ax = plt.subplots(figsize=(5, 3))\n",
    "\n",
    "    # epistemic\n",
    "    plt.fill_between(x, gamma_smooth - 0.4 * epistemic_smooth, gamma_smooth + 0.4 * epistemic_smooth, color='green', alpha=0.1, label='Epistemic')\n",
    "    # aleatoric\n",
    "    plt.plot(x, gamma_smooth - 2 * aleatoric_smooth, color='black', alpha=0.5, label='Aleatoric')\n",
    "    plt.plot(x, gamma_smooth + 2 * aleatoric_smooth, color='black', alpha=0.5)\n",
    "    # true function\n",
    "    #plt.plot(x, true_function, label='True Function', color='blue', alpha=1.0)\n",
    "    # train data\n",
    "    plt.scatter(x, y, color='blue', marker='o', s=1, label='Train data', alpha=0.2)\n",
    "    # prediction\n",
    "    plt.plot(x, gamma_smooth, label='Prediction', color='red', alpha=1.0)\n",
    "    \n",
    "    plt.xlim([-5, 5])\n",
    "    plt.ylim([-8, 8])\n",
    "    plt.xlabel(f\"X{from_var}(t-1)\")\n",
    "    plt.ylabel(f\"X{to_var}(t)\")\n",
    "    plt.legend()\n",
    "    plt.grid(True)\n",
    "    plt.tight_layout()\n",
    "    plt.savefig(f\"C:/Users/mauri/Desktop/thesis_img/uncertainty_relationship-{from_var}-{to_var}.svg\", format='svg')"
   ]
  },
  {
   "cell_type": "markdown",
   "id": "946f835a-dc38-4c82-a75d-9ad4eff16cee",
   "metadata": {},
   "source": [
    "plot time series"
   ]
  },
  {
   "cell_type": "code",
   "execution_count": null,
   "id": "17846fcb-de5e-48d3-a2c1-d83d9ac3b667",
   "metadata": {},
   "outputs": [],
   "source": [
    "for i in range(3):\n",
    "    for j in range(3):\n",
    "        plot_relationships(j, i)"
   ]
  },
  {
   "cell_type": "code",
   "execution_count": null,
   "id": "23f8febb-12aa-4ae4-9163-9edd4844bc78",
   "metadata": {},
   "outputs": [],
   "source": [
    "def plot_timeseries(uncertainty_type):\n",
    "    with torch.no_grad():\n",
    "        gamma, v, aleatoric_var, aleatoric_log_var, epistemic_var, gamma_prime, v_prime, aleatoric_var_prime, epistemic_var_prime = model(x_train)\n",
    "    \n",
    "    a, b = 100, 300\n",
    "    x_ticks = np.arange(a, b, 1)\n",
    "\n",
    "    plt.figure(figsize=(12, 6))\n",
    "    for sample_channel in range(3):\n",
    "        ax = plt.subplot(3, 1, sample_channel + 1)  # 3 rows, 1 column, current plot\n",
    "    \n",
    "        plt.plot(x_ticks, y_train[0, sample_channel, a:b].cpu().numpy(),\n",
    "                 label=\"Original Data\", alpha=1.0, zorder=0, color='coral')\n",
    "    \n",
    "        plt.plot(x_ticks, true_function_train[0, sample_channel, a:b].cpu().numpy(),\n",
    "                 label=\"True Contributions\", alpha=0.4, zorder=1, color='red')\n",
    "\n",
    "\n",
    "        gamma1 = gamma_prime[0, sample_channel, a:b].cpu().numpy()\n",
    "        plt.plot(x_ticks, gamma1,\n",
    "                 label=\"Model Prediction (μ)\", linestyle='dashed', alpha=0.9, zorder=1, color='royalblue')\n",
    "\n",
    "        if uncertainty_type == 'aleatoric':\n",
    "            std1 = torch.sqrt(aleatoric_var_prime[0, sample_channel, a:b]).cpu().numpy()\n",
    "            # Plotting standard deviations\n",
    "            plt.fill_between(x_ticks,\n",
    "                             gamma1 - 2 * std1,\n",
    "                             gamma1 + 2 * std1,\n",
    "                             color='green', alpha=0.3, zorder=-2)\n",
    "        \n",
    "            # Plotting standard deviations\n",
    "            plt.fill_between(x_ticks,\n",
    "                             gamma1 - std1,\n",
    "                             gamma1 + std1,\n",
    "                             color='green', alpha=0.3, label=\"Aleatoric Uncertainty (2σ)\", zorder=-1)\n",
    "            ax.set_ylim([-2.5, 2.5])\n",
    "        else:\n",
    "            std1 = torch.sqrt(epistemic_var_prime[0, sample_channel, a:b]).cpu().numpy()\n",
    "            # Plotting standard deviations lightsteelblue\n",
    "            plt.fill_between(x_ticks,\n",
    "                             gamma1 - 0.4 * std1,\n",
    "                             gamma1 + 0.4 * std1,\n",
    "                             color='green', alpha=0.3, zorder=-2)\n",
    "        \n",
    "            # Plotting standard deviations\n",
    "            plt.fill_between(x_ticks,\n",
    "                             gamma1 - 0.2 *std1,\n",
    "                             gamma1 + 0.2 * std1,\n",
    "                             color='green', alpha=0.3, label=\"Epistemic Uncertainty (2σ)\", zorder=-1)\n",
    "            ax.set_ylim([-3, 3])\n",
    "        \n",
    "        if sample_channel == 0:\n",
    "            plt.legend()\n",
    "    \n",
    "        if sample_channel != 2:  # if it's not the last plot, hide the x-axis\n",
    "            plt.setp(ax.get_xticklabels(), visible=False)\n",
    "    \n",
    "        #plt.setp(ax.get_yticklabels(), visible=False)\n",
    "        ax.set_ylabel(f\"Var {sample_channel + 1}\")\n",
    "    \n",
    "        ax.grid(False)\n",
    "    plt.tight_layout()  # to prevent overlap of titles and labels\n",
    "    plt.show()\n"
   ]
  },
  {
   "cell_type": "code",
   "execution_count": null,
   "id": "0b44f207-11ae-4fbf-8584-f93c23f9c4bf",
   "metadata": {},
   "outputs": [],
   "source": [
    "plot_timeseries('aleatoric')"
   ]
  },
  {
   "cell_type": "code",
   "execution_count": null,
   "id": "95ac9369-c740-41ad-9603-d9de2c4d177d",
   "metadata": {
    "jupyter": {
     "source_hidden": true
    }
   },
   "outputs": [],
   "source": [
    "plot_timeseries('epistemic')"
   ]
  },
  {
   "cell_type": "markdown",
   "id": "892a7938-ae4b-4907-be26-90fc1c1bc0a1",
   "metadata": {},
   "source": [
    "plot paramters"
   ]
  },
  {
   "cell_type": "code",
   "execution_count": null,
   "id": "a868b881-b85a-4fc0-92fb-398fd3c72bc8",
   "metadata": {},
   "outputs": [],
   "source": [
    "def plot_params(from_var, to_var):\n",
    "    x, y, true_function, gamma, v, aleatoric, epistemic, causal_matrix, confidence_matrix, \\\n",
    "    gamma_prime, aleatoric_prime, epistemic_prime = post_training_analysis_navar(model, x_train, y_train, true_function_train, from_var=from_var, to_var=to_var)\n",
    "    \n",
    "    fig, axes = plt.subplots(nrows=2, ncols=4, figsize=(20, 4))\n",
    "    for i, (d, name) in enumerate([(gamma, 'mu'), (v, 'v'), (aleatoric, 'aleatoric'), (epistemic, 'epistemic')]):\n",
    "        ax = axes[0, i]\n",
    "        #k = len(d)\n",
    "        #plt.plot(d[int(0.30 * len(d)): int(0.70 * len(d))])\n",
    "        ax.plot(x, d)\n",
    "        ax.set_title(name)\n",
    "        \n",
    "        ax = axes[1, i]\n",
    "        ax.plot(np.log(d))\n",
    "        ax.set_title(f\"log({name})\")\n",
    "    plt.show()"
   ]
  },
  {
   "cell_type": "code",
   "execution_count": null,
   "id": "261747d6-0ea5-4dd1-b3d5-bc48a38420e5",
   "metadata": {},
   "outputs": [],
   "source": [
    "plot_params(0, 1)"
   ]
  },
  {
   "cell_type": "code",
   "execution_count": null,
   "id": "f445d432-649e-4224-b422-6fa7f786f4a5",
   "metadata": {},
   "outputs": [],
   "source": []
  },
  {
   "cell_type": "code",
   "execution_count": null,
   "id": "1adbc854-dd41-40ca-91c7-a58c22cd86ce",
   "metadata": {},
   "outputs": [],
   "source": []
  },
  {
   "cell_type": "code",
   "execution_count": null,
   "id": "c7d92723-2a92-474b-90b5-002af3ab05c4",
   "metadata": {},
   "outputs": [],
   "source": []
  },
  {
   "cell_type": "code",
   "execution_count": null,
   "id": "6c22fc7e-c05a-40ec-ab60-ab262d3c401d",
   "metadata": {},
   "outputs": [],
   "source": []
  },
  {
   "cell_type": "code",
   "execution_count": null,
   "id": "de0bbd4b-156b-401e-b5cb-87f25e5d3688",
   "metadata": {},
   "outputs": [],
   "source": []
  },
  {
   "cell_type": "code",
   "execution_count": null,
   "id": "429f051f-384e-4ce8-850f-82b1fc4f4313",
   "metadata": {},
   "outputs": [],
   "source": []
  },
  {
   "cell_type": "code",
   "execution_count": null,
   "id": "47435eaf-35e3-4e48-9dcc-066b331a4751",
   "metadata": {},
   "outputs": [],
   "source": []
  }
 ],
 "metadata": {
  "kernelspec": {
   "display_name": "Python 3 (ipykernel)",
   "language": "python",
   "name": "python3"
  },
  "language_info": {
   "codemirror_mode": {
    "name": "ipython",
    "version": 3
   },
   "file_extension": ".py",
   "mimetype": "text/x-python",
   "name": "python",
   "nbconvert_exporter": "python",
   "pygments_lexer": "ipython3",
   "version": "3.9.16"
  }
 },
 "nbformat": 4,
 "nbformat_minor": 5
}
